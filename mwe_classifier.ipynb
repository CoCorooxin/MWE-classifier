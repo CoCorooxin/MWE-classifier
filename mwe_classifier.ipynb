{
 "cells": [
  {
   "cell_type": "markdown",
   "metadata": {
    "id": "75UE4NqB_Fzo"
   },
   "source": [
    "### An encoding class for easy look up of the vocabularies."
   ]
  },
  {
   "cell_type": "code",
   "execution_count": 6,
   "metadata": {},
   "outputs": [],
   "source": []
  },
  {
   "cell_type": "code",
   "execution_count": 1,
   "metadata": {
    "id": "UvU_rzBmDaUj"
   },
   "outputs": [],
   "source": [
    "import torch\n",
    "from torch.utils.data import Dataset, DataLoader, random_split\n",
    "#from transformers import CamembertForSequenceClassification as Camembert\n",
    "from collections import Counter\n",
    "import itertools\n",
    "import torch.nn as nn\n",
    "from tqdm import tqdm\n",
    "import numpy as np\n",
    "import seaborn as sns\n",
    "import matplotlib.pyplot as plt\n",
    "np.random.seed(42)"
   ]
  },
  {
   "cell_type": "code",
   "execution_count": 2,
   "metadata": {
    "id": "LdsH9VRk-yyL"
   },
   "outputs": [],
   "source": [
    "\n",
    "\n",
    "class Vocabulary:\n",
    "    \n",
    "    def __init__(self, symbols = None):\n",
    "        \n",
    "        #dictionary to map the vocabulary with a id to build matrix\n",
    "        #add \"UNK\" for unknown word to the initial mapping  \n",
    "        self.word2idx = dict()\n",
    "        self.idx2word = []\n",
    "\n",
    "        if symbols:\n",
    "            for sym in symbols:\n",
    "                self.update(sym)\n",
    "    @staticmethod\n",
    "    def read(vocab_file):\n",
    "        with open(vocab_file, \"r\", encoding = \"utf-8\") as f:\n",
    "            toks = f.read().split(\" \")\n",
    "        return Vocabulary(toks)\n",
    "\n",
    "    def write(self, filename):\n",
    "        with open(filename, \"w\", encoding = \"utf-8\") as f:\n",
    "            f.write(\" \".join(self.idx2word))\n",
    "\n",
    "    def update(self, tok):\n",
    "        \n",
    "        #takes as input a symbol and build the mapping if it doesnt exist\n",
    "        if tok not in self.word2idx:\n",
    "            self.word2idx[tok] = len(self.idx2word)\n",
    "            self.idx2word.append(tok)\n",
    "\n",
    "    def lookup(self, tok, update = False):\n",
    "        \n",
    "        #find tok id given the string, if the tok does not exist return the idx of \"UNK\"\n",
    "        if tok not in self.word2idx:\n",
    "            if update:\n",
    "                self.update(tok)\n",
    "                return self[tok]\n",
    "            return self.word2idx[\"<unk>\"]\n",
    "            \n",
    "        return self.word2idx[tok]\n",
    "    def rev_lookup(self, idx):\n",
    "        \n",
    "        #find the tok string given the id\n",
    "        return self.idx2word[idx]\n",
    "    \n",
    "    def __getitem__(self, symbol):\n",
    "        \n",
    "        #if the symbol does not exist we see it as unk\n",
    "        return self.lookup(symbol)\n",
    "    \n",
    "    def __len__(self):\n",
    "        \n",
    "        return len(self.idx2word)\n",
    "    "
   ]
  },
  {
   "cell_type": "markdown",
   "metadata": {
    "id": "SbPKx8Ci_jY7"
   },
   "source": [
    "### Load the data\n",
    "Conll reader reads the conllu file and Data loader gonna load the data and feed the encoded data to the model(either for training or inference)."
   ]
  },
  {
   "cell_type": "code",
   "execution_count": 3,
   "metadata": {
    "id": "ocCUaAxr_TyV"
   },
   "outputs": [],
   "source": [
    "\"\"\"\n",
    "Functions for reading and writing UD CONLL data\n",
    "\"\"\"\n",
    "CONLL_FIELDS = [\"token\", \"pos\", \"features\", \"deprel\"]\n",
    "MWE_TAGS     = [\"B\", \"I\"]  #B for begin , I for inside\n",
    "\n",
    "\n",
    "def readfile(filename, update = False, toks_vocab=Vocabulary([\"<unk>\", \"<bos>\", \"<eos>\"]), tags_vocab=Vocabulary([\"B_X\"])):\n",
    "    \"\"\"\n",
    "    function to read and encode the corpus at one pass \n",
    "    signature for train corpus : X_toks, Y_tags = readfile(\"corpus/train.conllu\", update=True)\n",
    "    signature for test corpus/ dev corpus:  X_test, Y_test = readfile(\"corpus/train.conllu\", update=True, vocabtoks_train, vocabtags_train)\n",
    "    \"\"\"\n",
    "\n",
    "    istream              = open(filename, encoding = \"utf-8\")\n",
    "    X_toks, Y_tags       = [], []\n",
    "    sent_toks, sent_tags = [], []\n",
    "\n",
    "    for line in istream:\n",
    "        line = line.strip()\n",
    "        if line and line[0] != \"#\":\n",
    "            try:\n",
    "                tokidx, token, lemma, upos, pos, features, headidx, deprel, extended, _ = line.split()\n",
    "\n",
    "            except ValueError:\n",
    "                pass\n",
    "            if tokidx == \"1\":\n",
    "                #beginning of sentence, add false toks  \n",
    "                sent_toks.append(toks_vocab[\"<bos>\"])\n",
    "                sent_tags.append(tags_vocab[\"B_X\"])\n",
    "            \n",
    "            #extract simple mwe tags\n",
    "            mwe_tag = lambda x: \"I\" if features.startswith(\"component\") else \"B\"\n",
    "            #extract tagging information\n",
    "            sent_toks.append(toks_vocab.lookup(tok = token, update = update))\n",
    "            sent_tags.append(tags_vocab.lookup(tok = mwe_tag(features) + \"_\" + upos, update = update))\n",
    "                \n",
    "        elif sent_toks:\n",
    "            #end of sentence, add  false tokens \n",
    "            sent_toks.append(toks_vocab[\"<eos>\"])\n",
    "            sent_tags.append(tags_vocab[\"B_X\"])\n",
    "            X_toks.append(sent_toks)\n",
    "            Y_tags.append(sent_tags)\n",
    "            sent_toks, sent_tags = [], []\n",
    "\n",
    "    istream.close()\n",
    "    #return the encoded data in list of list, the nested list represents the sentences\n",
    "    return X_toks, Y_tags,toks_vocab, tags_vocab\n",
    "# [{\"token1\": \"token\", \"multiword\": \"mwe\", \"mwe lemma\": \"mwe lemma\"}, {\"token2\": \"token\", \"multiword\": \"mwe\"}, {\"token3\": \"token\", \"multiword\": \"mwe\"}]\n",
    "\n",
    "\n"
   ]
  },
  {
   "cell_type": "code",
   "execution_count": 4,
   "metadata": {
    "id": "X7Xt_y3rDaUo"
   },
   "outputs": [],
   "source": [
    "#build train vocab\n",
    "X_toks, Y_tags,toks_vocab, tags_vocab = readfile(\"corpus/train.conllu\", update=True)"
   ]
  },
  {
   "cell_type": "code",
   "execution_count": 5,
   "metadata": {},
   "outputs": [],
   "source": [
    "dist_tags = Counter(itertools.chain(*Y_tags))"
   ]
  },
  {
   "cell_type": "code",
   "execution_count": 6,
   "metadata": {},
   "outputs": [
    {
     "name": "stdout",
     "output_type": "stream",
     "text": [
      "[('B_I', 2), ('I_ET', 2), ('I_PONCT', 8), ('I_CL', 21), ('I_PRO', 25), ('I_A', 44), ('I_V', 48), ('B_PREF', 49), ('B_INTJ', 58), ('I_D', 74), ('I_C', 91), ('I_ADV', 105), ('B_ET', 117), ('I_P', 211), ('I_N', 229), ('B_SYM', 329), ('B_PRO', 571), ('B_CL', 969), ('B_C', 1102), ('B_PART', 1198), ('B_SCONJ', 1769), ('B_A', 2170), ('B_V', 3916), ('B_PONCT', 4282), ('B_P', 5435), ('B_D', 5470), ('B_AUX', 5540), ('B_CONJ', 6234), ('B_NUM', 6527), ('B__', 7860), ('B_ADV', 9101), ('B_N', 9750), ('B_PRON', 11141), ('B_ADJ', 14014), ('B_PROPN', 19376), ('B_VERB', 22499), ('B_X', 23540), ('B_PUNCT', 27507), ('B_DET', 38204), ('B_ADP', 39805), ('B_NOUN', 46130)]\n"
     ]
    },
    {
     "data": {
      "image/png": "[encoded data removed]",
      "text/plain": [
       "<Figure size 1200x600 with 1 Axes>"
      ]
     },
     "metadata": {},
     "output_type": "display_data"
    }
   ],
   "source": [
    "distribution = [(tags_vocab.rev_lookup(tag), freq) for tag, freq in dist_tags.items()]\n",
    "distribution = sorted(distribution, key = lambda x: x[1])\n",
    "print(distribution)\n",
    "tags, counts = zip(*distribution)\n",
    "plt.figure(figsize=(12, 6))\n",
    "plt.bar(tags, counts)\n",
    "plt.xticks(rotation=90)\n",
    "plt.xlabel('Tags')\n",
    "plt.ylabel('Counts')\n",
    "plt.title('Distribution of Tags')\n",
    "plt.show()"
   ]
  },
  {
   "cell_type": "code",
   "execution_count": 7,
   "metadata": {},
   "outputs": [],
   "source": [
    "class MWEDataset (Dataset):\n",
    "\n",
    "    def __init__(self,datafilename = None, toks_vocab=Vocabulary([\"<unk>\", \"<bos>\", \"<eos>\"]), tags_vocab=Vocabulary([\"B_X\"]), isTrain = False, window_size = 0):\n",
    "        \"\"\"\n",
    "        take as input either the path to a conllu file or a list of tokens\n",
    "        we consider context size as the n preceding and n subsequent words in the text as the context for predicting the next word.\n",
    "        \"\"\"\n",
    "        super(MWEDataset, self).__init__()\n",
    "\n",
    "        self.toks_vocab, self.tags_vocab = toks_vocab, tags_vocab\n",
    "        self.Xtoks_IDs,self.Ytags_IDs, self.toks_vocab, self.tags_vocab = readfile(datafilename,\n",
    "                                                                                       update=isTrain, \n",
    "                                                                                       toks_vocab = toks_vocab, \n",
    "                                                                                       tags_vocab=tags_vocab)\n",
    "                                                                          \n",
    "\n",
    "     \n",
    "        print('token Vocab size',len(self.toks_vocab))\n",
    "        self.window_size  = window_size\n",
    "        self.data         = self.build_dataset(self.Xtoks_IDs,self.Ytags_IDs)\n",
    "        self.tags_dist    = Counter(itertools.chain(*self.Ytags_IDs))\n",
    "\n",
    "        \n",
    "    def __len__(self):\n",
    "        return len(self.data)\n",
    "    \n",
    "    def build_dataset(self,X_toks,Y_tags):\n",
    "        \"\"\"\n",
    "        build fixed length examples with contextual tokens as features\n",
    "        takes as input a nested list of encoded corpus, [sentences[tokens]]\n",
    "        return a list of examples with context window features\n",
    "        \"\"\"\n",
    "        examples = []\n",
    "        for toks, tags in zip(X_toks, Y_tags):\n",
    "\n",
    "            toks = [self.toks_vocab[\"<bos>\"]]*self.window_size + toks + [self.toks_vocab[\"<eos>\"]]*self.window_size #3+3+3\n",
    "            \n",
    "            for i in range(self.window_size, len(toks)-self.window_size, 1): #3, 6, 1\n",
    "\n",
    "                examples.append((torch.tensor(toks[i - self.window_size : i + self.window_size+1]), torch.tensor(tags[i - self.window_size])))\n",
    "                #print(examples[-1])\n",
    "        return examples\n",
    "        \n",
    "    def __getitem__(self, idx):\n",
    "        \n",
    "        return self.data[idx]\n",
    "        \n",
    "    def as_strings(self,batch_tensor):\n",
    "        \"\"\"\n",
    "        Returns a string representation of a tensor of word indexes\n",
    "        \"\"\"\n",
    "        out = []\n",
    "        for line in batch_tensor.tolist():\n",
    "            out.append([self.toks_vocab.rev_lookup(idx) for idx in line])\n",
    "        return out\n",
    "\n",
    "    def get_loader(self, batch_size=1, num_workers=0, word_dropout=0., shuffle =False):\n",
    "        return DataLoader(self, batch_size=batch_size, num_workers=num_workers,shuffle = shuffle)\n"
   ]
  },
  {
   "cell_type": "markdown",
   "metadata": {
    "id": "7dJuLSsTNLKl"
   },
   "source": [
    "### Stats"
   ]
  },
  {
   "cell_type": "code",
   "execution_count": 8,
   "metadata": {
    "colab": {
     "base_uri": "https://localhost:8080/"
    },
    "executionInfo": {
     "elapsed": 370,
     "status": "ok",
     "timestamp": 1685174302234,
     "user": {
      "displayName": "Dan HOU",
      "userId": "05926720502448093799"
     },
     "user_tz": -120
    },
    "id": "JXOiRYCPDaUp",
    "outputId": "d44189d2-3be9-4d47-f506-f4467551220e"
   },
   "outputs": [
    {
     "name": "stdout",
     "output_type": "stream",
     "text": [
      "35694\n",
      "41\n"
     ]
    }
   ],
   "source": [
    "print(len(toks_vocab))\n",
    "print(len(tags_vocab))"
   ]
  },
  {
   "cell_type": "code",
   "execution_count": 9,
   "metadata": {
    "colab": {
     "base_uri": "https://localhost:8080/"
    },
    "executionInfo": {
     "elapsed": 348,
     "status": "ok",
     "timestamp": 1685174316027,
     "user": {
      "displayName": "Dan HOU",
      "userId": "05926720502448093799"
     },
     "user_tz": -120
    },
    "id": "PLk3Q2G0DaUr",
    "outputId": "5cfcf7ca-2310-4e15-abfd-e3c165fe9b9b"
   },
   "outputs": [
    {
     "name": "stdout",
     "output_type": "stream",
     "text": [
      "token Vocab size 35694\n",
      "token Vocab size 35694\n"
     ]
    }
   ],
   "source": [
    "corpuspath = \"corpus/train.conllu\"\n",
    "\n",
    "train_dataset = MWEDataset(\"corpus/train.conllu\",  isTrain = True,  window_size = 3)\n",
    "testset    = MWEDataset(\"corpus/test.conllu\", window_size = 3)"
   ]
  },
  {
   "cell_type": "markdown",
   "metadata": {
    "id": "JsgjGw4vfq9_"
   },
   "source": [
    "# Model 模型"
   ]
  },
  {
   "cell_type": "code",
   "execution_count": 10,
   "metadata": {},
   "outputs": [],
   "source": [
    "class Attention(nn.Module):\n",
    "    def __init__(self, hidden_size):\n",
    "        # a bahdaunau attention layer to enforce the memory effect\n",
    "        super(Attention, self).__init__()\n",
    "        self.hidden_size = hidden_size\n",
    "        self.Wq = nn.Linear(hidden_size, hidden_size) #query\n",
    "        self.Wk = nn.Linear(hidden_size, hidden_size)#key\n",
    "        self.V = nn.Linear(hidden_size, 1) # contextual value\n",
    "\n",
    "    def forward(self, hidden, logits):\n",
    "        hidden = hidden.unsqueeze(1)  # (batch_size, 1, hidden_size)\n",
    "        activate = torch.tanh(self.W1(logits) + self.W2(hidden))  # (batch_size, seq_length, hidden_size)\n",
    "        attention_weights = F.softmax(self.V(activate), dim=1)  # (batch_size, seq_length, 1)\n",
    "        new_logits = torch.sum(attention_weights * logits, dim=1)  # (batch_size, hidden_size)\n",
    "        return new_logits\n",
    "#why would a  Bahdanau attention layer be beneficial in our sequencial tagging task? "
   ]
  },
  {
   "cell_type": "code",
   "execution_count": 11,
   "metadata": {
    "id": "rW-I3bYxkWP9"
   },
   "outputs": [],
   "source": [
    "class MweClassifier(nn.Module):\n",
    "\n",
    "    def __init__(self, toks_vocab, tags_vocab, window_size=0, emb_size=64, hidden_size=64, pretrainedw2v=None, drop_out=0.):\n",
    "\n",
    "        super(MweClassifier, self).__init__()\n",
    "\n",
    "        self.word_embedding = nn.Embedding(len(toks_vocab), emb_size)\n",
    "        self.window_size = window_size\n",
    "        self.input_length = 1 + window_size * 2\n",
    "        self.toks_vocab = toks_vocab\n",
    "        self.tags_vocab = tags_vocab\n",
    "\n",
    "\n",
    "        self.net = nn.Sequential(\n",
    "            nn.Linear(emb_size * self.input_length, hidden_size),\n",
    "            nn.ReLU(),\n",
    "            nn.Linear(hidden_size, hidden_size * 2),\n",
    "            nn.Dropout(drop_out),\n",
    "            nn.ReLU(),\n",
    "            nn.Linear(hidden_size * 2, len(tags_vocab)),  # output # of classes\n",
    "            nn.LogSoftmax(dim=1)\n",
    "        )\n",
    "\n",
    "        if pretrainedw2v:\n",
    "            pass\n",
    "\n",
    "    @staticmethod\n",
    "    def pretrainedw2v_loader(self, path_to_pretrained=None):\n",
    "        if not path_to_pretrained:\n",
    "            # Download the pretrained French Word2Vec model https://fauconnier.github.io/#data\n",
    "            model_name = 'frWac_non_lem_no_postag_no_phrase_500_skip_cut100.bin.gz'\n",
    "            model = api.load(model_name)\n",
    "        else:\n",
    "            model = KeyedVectors.load_word2vec_format(path_to_pretrained, binary=True)\n",
    "        return model\n",
    "\n",
    "\n",
    "    def forward(self, Xtoks_IDs):\n",
    "        b, seq = Xtoks_IDs.shape\n",
    "\n",
    "        input = self.word_embedding(Xtoks_IDs)  # Batch, inputsize*emb_size\n",
    "        # print(input.shape) #B, window_size, emb_size\n",
    "        # input.view(b, -1) B, window_size * emb_size\n",
    "        return self.net(input.view(b, -1))  # tag_size = 3\n",
    "\n",
    "\n",
    "    def train_model(self, train_data, test_data, epochs = 10, lr = 1e-3, batch_size = 10, device = \"cpu\", reg = None, split_train = 0.8):\n",
    "        \"\"\"\n",
    "        the train data is in form of nested lists: [sentences[tokens]]\n",
    "        \"\"\"\n",
    "        self.to(device)\n",
    "        #adaptive gradient descent, for every update lr is a function of the amount of change in the parameters\n",
    "        optimizer   = torch.optim.Adam(self.parameters(), lr = lr)\n",
    "        #optimizer   = torch.optim.SGD(self.parameters(), lr = lr, momentum = 0.9)\n",
    "        loss_fnc    = nn.NLLLoss()\n",
    "        test_loader = test_data.get_loader(batch_size=batch_size)\n",
    "\n",
    "        train_loss = []\n",
    "\n",
    "        for e in range(epochs):\n",
    "            self.train()\n",
    "            #at every epochs we split the traindata into train set and dev set \n",
    "            num_train_examples = int(split_train*len(train_data))\n",
    "            trainset, validset = random_split(train_data, [num_train_examples, len(train_data) - num_train_examples])      \n",
    "            train_loader = DataLoader(trainset, batch_size=batch_size, shuffle=False)\n",
    "            dev_loader   = DataLoader(validset, batch_size=batch_size, shuffle=False)\n",
    "\n",
    "            ep_loss = []\n",
    "            \n",
    "            for X_toks, Y_gold in tqdm(train_loader):\n",
    "                #print(x.shape)\n",
    "                #print(train_data.as_strings(X_toks))\n",
    "                #print([self.tags_vocab.rev_lookup(int(y.unsqueeze(dim=0))) for y in Y_gold])\n",
    "                optimizer.zero_grad()\n",
    "                logprobs = self.forward(X_toks)\n",
    "               \n",
    "                #print(y_hat.shape)\n",
    "                loss_value = loss_fnc(logprobs, Y_gold)\n",
    "                ep_loss.append(loss_value.item())\n",
    "                loss_value.backward()\n",
    "                optimizer.step()\n",
    "            loss = sum(ep_loss)/len(ep_loss)\n",
    "            train_loss.append(loss)\n",
    "            valid_loss = self.validate(dev_loader)\n",
    "            \n",
    "           \n",
    "            #print(\"Epoch %d | Mean train loss  %.4f | Mean dev loss %.4f\"%(e,loss, devloss) )\n",
    "            print(\"Epoch %d | Mean train loss  %.4f |  Mean dev loss  %.4f \"%(e,loss, valid_loss) )\n",
    "            print()\n",
    "        \n",
    "        average_precision, average_recall,average_f1_score, weighted_f1_score, weighted_recall,weighted_precision  = self.evaluate(test_loader)\n",
    "        print(\"Avr Precision %.4f | Avr Recall  %.4f |  Avr F-score  %.4f \"%(average_precision, average_recall, average_f1_score) )\n",
    "        print(\"Wighted Precision %.4f |Wighted Recall  %.4f |Wighted  F-score  %.4f \"%(weighted_precision, weighted_recall, weighted_f1_score) )\n",
    "\n",
    "\n",
    "    def validate(self, data_loader, device = \"cpu\"):\n",
    "        loss_fnc   = nn.NLLLoss()\n",
    "        loss_lst   = []\n",
    "        self.eval()\n",
    "        with torch.no_grad():\n",
    "            for X_toks, Y_gold in tqdm(data_loader):\n",
    "                logprobs = self.forward(X_toks)\n",
    "               \n",
    "                loss = loss_fnc(logprobs, Y_gold)\n",
    "                loss_lst.append(loss)\n",
    "        return sum(loss_lst)/len(loss_lst)\n",
    "                \n",
    "            \n",
    "    def predict(self, string):\n",
    "        \"\"\"\n",
    "        \n",
    "        \"\"\"\n",
    "        self.eval()\n",
    "        \n",
    "\n",
    "        pass\n",
    "    def evaluate(self, test_loader):\n",
    "        \"\"\"\n",
    "        evaluation the classifier with confusion matrix : precision recall and f-score\n",
    "        \"\"\"\n",
    "        self.eval()\n",
    "        num_tags = len(self.tags_vocab)\n",
    "        #print(num_tags)\n",
    "        TP   = torch.zeros(num_tags)\n",
    "        FP   = torch.zeros(num_tags)\n",
    "        FN   = torch.zeros(num_tags)\n",
    "        class_counts = torch.zeros(num_tags)\n",
    "        with torch.no_grad():\n",
    "            for X_toks, Y_golds in tqdm(test_loader):\n",
    "                logprobs              = self.forward(X_toks)\n",
    "                scores, predicted_IDs = torch.max(logprobs.data, dim = 1)\n",
    "                #convert tensor to np arrays\n",
    "                predicted_IDs = predicted_IDs.cpu().numpy()\n",
    "                Y_golds    = Y_golds.cpu().numpy()\n",
    "                for tag in range(num_tags):\n",
    "                    TP[tag] +=  ((predicted_IDs == tag) & (Y_golds == tag)).sum()\n",
    "                    FP[tag] += ((predicted_IDs == tag) & (Y_golds != tag)).sum()\n",
    "                    FN[tag] += ((predicted_IDs != tag) & (Y_golds == tag)).sum()\n",
    "                    class_counts[tag] += (Y_golds == tag).sum()\n",
    "        # Calculate precision, recall, and F1 score for each tag\n",
    "        precision = TP / (TP + FP)\n",
    "        #avoid nan\n",
    "        nan_mask = torch.isnan(precision)\n",
    "        precision[nan_mask] = 0.\n",
    "        \n",
    "        recall = TP / (TP + FN)\n",
    "        #avoid nan\n",
    "        nan_mask = torch.isnan(recall)\n",
    "        recall[nan_mask] = 0.\n",
    "        \n",
    "        f1_score = 2 * (precision * recall) / (precision + recall)\n",
    "        #avoid nan\n",
    "        nan_mask = torch.isnan(f1_score)\n",
    "        f1_score[nan_mask] = 0.\n",
    "        # Calculate class weights\n",
    "        class_weights = class_counts / class_counts.sum()\n",
    "        \n",
    "       # Calculate average precision, recall, and F1 score\n",
    "        average_precision = torch.mean(precision)\n",
    "        average_recall = torch.mean(recall)\n",
    "        average_f1_score = torch.mean(f1_score)\n",
    "    \n",
    "        weighted_f1_score = torch.sum(f1_score * class_weights)\n",
    "        weighted_recall   = torch.sum(recall * class_weights)\n",
    "        weighted_precision= torch.sum(precision * class_weights)\n",
    "\n",
    "        return average_precision, average_recall,average_f1_score, weighted_f1_score, weighted_recall,weighted_precision\n",
    "        \n",
    "    @staticmethod\n",
    "    def load(modelfile,toks_vocab, tags_vocab, window_size , embsize, hidden_size , device = \"cpu\"):\n",
    "        vocab_toks = Vocabulary.read(toks_vocab)\n",
    "        vocab_tags = Vocabulary.read(tags_vocab)\n",
    "        model      = MweClassifier(vocab_toks, vocab_tags, window_size , embsize, hidden_size, device)\n",
    "        model.load_params(modelfile,device)\n",
    "        return model,vocab_toks, vocab_tags\n",
    "\n",
    "    def load_params(self,param_filename,device):\n",
    "        self.load_state_dict(torch.load(param_filename, map_location=device))\n",
    "\n",
    "    def save(self, path):\n",
    "        self.toks_vocab.write(\"toks.vocab\")\n",
    "        self.toks_vocab.write(\"toks.vocab\")\n",
    "        torch.save(self.state_dict(), path)"
   ]
  },
  {
   "cell_type": "code",
   "execution_count": 12,
   "metadata": {
    "id": "HKeJk2ewDaUs"
   },
   "outputs": [],
   "source": [
    "#define the hyperparameters\n",
    "batch_size    = 32\n",
    "window_size   =  3#left context and right context\n",
    "lr            = 1e-3\n",
    "device        = \"cpu\"\n",
    "epochs        = 50\n",
    "emb_size      = 64\n",
    "hidden_size   = 64\n",
    "nb_layers     = 2\n",
    "drop_out      = 0."
   ]
  },
  {
   "cell_type": "code",
   "execution_count": 13,
   "metadata": {},
   "outputs": [
    {
     "name": "stdout",
     "output_type": "stream",
     "text": [
      "token Vocab size 35694\n",
      "token Vocab size 35694\n"
     ]
    }
   ],
   "source": [
    "train_dataset = MWEDataset(\"corpus/train.conllu\",  isTrain = True,  window_size = 3)\n",
    "testset    = MWEDataset(\"corpus/test.conllu\", window_size = 3)\n",
    "#train_dataset.toks_vocab.write(\"toks.vocab\")\n",
    "#train_dataset.tags_vocab.write(\"tags.vocab\")\n"
   ]
  },
  {
   "cell_type": "code",
   "execution_count": 14,
   "metadata": {},
   "outputs": [],
   "source": [
    "model = MweClassifier(toks_vocab   = train_dataset.toks_vocab,\n",
    "                     tags_vocab   = testset.tags_vocab, \n",
    "                     window_size  = 3, \n",
    "                     emb_size     = emb_size, \n",
    "                     hidden_size  = hidden_size, \n",
    "                     drop_out     = 0.2)"
   ]
  },
  {
   "cell_type": "code",
   "execution_count": null,
   "metadata": {},
   "outputs": [
    {
     "name": "stderr",
     "output_type": "stream",
     "text": [
      "100%|███████████████████████████████████████| 7889/7889 [02:00<00:00, 65.20it/s]\n",
      "100%|█████████████████████████████████████| 1973/1973 [00:00<00:00, 3488.96it/s]\n"
     ]
    },
    {
     "name": "stdout",
     "output_type": "stream",
     "text": [
      "Epoch 0 | Mean train loss  0.9980 |  Mean dev loss  0.7895 \n",
      "\n"
     ]
    },
    {
     "name": "stderr",
     "output_type": "stream",
     "text": [
      "100%|███████████████████████████████████████| 7889/7889 [02:03<00:00, 63.74it/s]\n",
      "100%|█████████████████████████████████████| 1973/1973 [00:00<00:00, 2615.16it/s]\n"
     ]
    },
    {
     "name": "stdout",
     "output_type": "stream",
     "text": [
      "Epoch 1 | Mean train loss  0.8187 |  Mean dev loss  0.7601 \n",
      "\n"
     ]
    },
    {
     "name": "stderr",
     "output_type": "stream",
     "text": [
      " 73%|████████████████████████████▎          | 5729/7889 [01:29<00:33, 64.57it/s]"
     ]
    }
   ],
   "source": [
    "model.train_model(train_dataset,testset, epochs= 6, lr=1e-2, batch_size = batch_size, split_train=0.8)"
   ]
  },
  {
   "cell_type": "markdown",
   "metadata": {},
   "source": [
    "### Scripts to save the trained model"
   ]
  },
  {
   "cell_type": "code",
   "execution_count": 19,
   "metadata": {
    "id": "36mR4devDaUq"
   },
   "outputs": [],
   "source": [
    "model.save(\"model.pth\")"
   ]
  },
  {
   "cell_type": "markdown",
   "metadata": {},
   "source": [
    "### Scripts to load the trained model from model file"
   ]
  },
  {
   "cell_type": "code",
   "execution_count": 188,
   "metadata": {},
   "outputs": [],
   "source": [
    "model, vocab_toks, vocab_tags = MweClassifier.load(\"model.pth\", \"toks.txt\", \"tags.txt\", window_size = 3, embsize=64, hidden_size = 64, device = \"cpu\")"
   ]
  },
  {
   "cell_type": "code",
   "execution_count": 189,
   "metadata": {},
   "outputs": [
    {
     "name": "stdout",
     "output_type": "stream",
     "text": [
      "token Vocab size 35694\n"
     ]
    }
   ],
   "source": [
    "testset    = MWEDataset(\"corpus/test.conllu\", toks_vocab = vocab_toks, tags_vocab = vocab_tags, window_size = 3)"
   ]
  },
  {
   "cell_type": "code",
   "execution_count": 190,
   "metadata": {},
   "outputs": [
    {
     "name": "stderr",
     "output_type": "stream",
     "text": [
      "100%|████████████████████████████████████████| 632/632 [00:03<00:00, 175.76it/s]\n"
     ]
    }
   ],
   "source": [
    "average_precision, average_recall,average_f1_score, weighted_f1_score, weighted_recall,weighted_precision  = model.evaluate(testset.get_loader(batch_size=500))"
   ]
  },
  {
   "cell_type": "code",
   "execution_count": 191,
   "metadata": {},
   "outputs": [
    {
     "name": "stdout",
     "output_type": "stream",
     "text": [
      "tensor(0.5152)\n",
      "tensor(0.3725)\n",
      "tensor(0.3781)\n",
      "tensor(0.7594)\n",
      "tensor(0.7937)\n",
      "tensor(0.7812)\n"
     ]
    }
   ],
   "source": [
    "print(average_precision)\n",
    "print(average_recall)\n",
    "print(average_f1_score)\n",
    "print(weighted_f1_score)\n",
    "print(weighted_recall)\n",
    "print(weighted_precision)"
   ]
  },
  {
   "cell_type": "code",
   "execution_count": 125,
   "metadata": {},
   "outputs": [
    {
     "data": {
      "image/png": "[encoded data removed]",
      "text/plain": [
       "<Figure size 2000x400 with 1 Axes>"
      ]
     },
     "metadata": {},
     "output_type": "display_data"
    }
   ],
   "source": [
    "\n",
    "# Create a figure and axis\n",
    "fig, ax = plt.subplots(figsize=(20, 4))\n",
    "\n",
    "bars = ax.bar([tags_vocab.rev_lookup(i) for i in range(len(tags_vocab))], f1_score)\n",
    "\n",
    "for i, bar in enumerate(bars):\n",
    "    weights = class_weight[i]\n",
    "    ax.annotate(str(round(float(class_weight[i]), 2)), xy=(bar.get_x() + bar.get_width() / 2, bar.get_height()), xytext=(0, 3),\n",
    "                textcoords=\"offset points\", ha='center', va='bottom')\n",
    "\n",
    "# Set labels and title\n",
    "ax.set_xlabel('Index')\n",
    "ax.set_ylabel('f-score')\n",
    "ax.set_title('f-scores for every tag annotated with the weights per frequency')\n",
    "\n",
    "# Show the plot\n",
    "plt.show()"
   ]
  },
  {
   "cell_type": "code",
   "execution_count": null,
   "metadata": {},
   "outputs": [],
   "source": []
  }
 ],
 "metadata": {
  "colab": {
   "provenance": []
  },
  "kernelspec": {
   "display_name": "Python 3 (ipykernel)",
   "language": "python",
   "name": "python3"
  },
  "language_info": {
   "codemirror_mode": {
    "name": "ipython",
    "version": 3
   },
   "file_extension": ".py",
   "mimetype": "text/x-python",
   "name": "python",
   "nbconvert_exporter": "python",
   "pygments_lexer": "ipython3",
   "version": "3.10.6"
  }
 },
 "nbformat": 4,
 "nbformat_minor": 4
}
