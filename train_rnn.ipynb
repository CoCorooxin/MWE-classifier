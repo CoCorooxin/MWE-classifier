{
 "cells": [
  {
   "cell_type": "markdown",
   "id": "4754b7be-8a95-4e0f-a178-f2099058c193",
   "metadata": {},
   "source": [
    "# RNN Model with crf"
   ]
  },
  {
   "cell_type": "code",
   "execution_count": 1,
   "id": "2e6733bd-6ba1-414e-93c0-742749f4a6cf",
   "metadata": {},
   "outputs": [],
   "source": [
    "import rnn_dataset\n",
    "import rnn_classifier\n",
    "from crf import CRF\n",
    "import torch\n",
    "from data_utils import Vocabulary\n",
    "from torch.utils.data import Dataset, DataLoader, random_split\n",
    "from collections import Counter\n",
    "import itertools\n",
    "import torch.nn as nn\n",
    "from tqdm import tqdm\n",
    "import numpy as np\n",
    "import seaborn as sns\n",
    "import matplotlib.pyplot as plt\n",
    "import os\n",
    "from torch.nn.utils.rnn import pad_sequence\n",
    "import pyconll\n"
   ]
  },
  {
   "cell_type": "code",
   "execution_count": 2,
   "id": "587cf793-09d8-49d1-855a-38c968edf240",
   "metadata": {},
   "outputs": [],
   "source": [
    "#define the hyperparameters\n",
    "batch_size    = 16\n",
    "window_size   =  6#left context and right context\n",
    "lr            = 1e-3\n",
    "device        = \"cpu\"\n",
    "epochs        = 20\n",
    "emb_size      = 64\n",
    "hidden_size   = 64\n",
    "nb_layers     = 2\n",
    "drop_out      = 0.1"
   ]
  },
  {
   "cell_type": "code",
   "execution_count": 3,
   "id": "be7e3803-b1fa-4826-b987-765fd3e322df",
   "metadata": {
    "scrolled": true
   },
   "outputs": [
    {
     "name": "stdout",
     "output_type": "stream",
     "text": [
      "token Vocab size 35693\n",
      "token Vocab size 35693\n"
     ]
    }
   ],
   "source": [
    "trainset     = rnn_dataset.MweRnnDataset(\"corpus/train.conllu\",  isTrain = True)\n",
    "testset      = rnn_dataset.MweRnnDataset(\"corpus/test.conllu\")\n"
   ]
  },
  {
   "cell_type": "code",
   "execution_count": 4,
   "id": "006e698f-db8b-4226-839c-0836e83f6f99",
   "metadata": {},
   "outputs": [
    {
     "name": "stdout",
     "output_type": "stream",
     "text": [
      "['B_N', 'B_D', 'B_N', 'B_PONCT', 'B_CL', 'B_V', 'B_ADV', 'B_V', 'B_PONCT', 'B_P', 'B_D', 'B_N', 'B_CL', 'B_CL', 'B_V', 'B_V', 'B_PONCT', 'B_P', 'B_D', 'B_N', 'B_P', 'B_D', 'B_N', 'B__', 'B_P', 'B_D', 'B_N', 'B_P', 'B_N', 'B_CL', 'B_V', 'B_P', 'B_CL', 'B_V', 'B_PONCT', 'B_C', 'B_CL', 'B_V', 'B_C', 'B_CL', 'B_V', 'B_ADV', 'B_ADV', 'B_A', 'B_P', 'B_V', 'B_D', 'B_N', 'B_P', 'B_CL', 'B_C', 'B_P', 'B_D', 'B_N', 'B_P', 'B_D', 'B_N', 'B_CL', 'B_V', 'B_ADV', 'I_A', 'B_V', 'B_V', 'B_P', 'B_D', 'B_N', 'B_PONCT', '<pad>']\n"
     ]
    }
   ],
   "source": [
    "for x, d, tag in trainset.get_loader(shuffle = True):\n",
    "    print(list(trainset.tags_vocab.rev_lookup(int(t)) for t in tag.squeeze(0)))\n",
    "    break\n",
    "    "
   ]
  },
  {
   "cell_type": "code",
   "execution_count": 5,
   "id": "d72190a7-8ca0-4718-8551-1f5428f9b177",
   "metadata": {},
   "outputs": [],
   "source": [
    "model = rnn_classifier.MweRNN(\n",
    "    name         = \"rnn\",\n",
    "    toks_vocab   = trainset.toks_vocab,\n",
    "    tags_vocab   = trainset.tags_vocab, \n",
    "    deprel_vocab = trainset.deprel_vocab,\n",
    "    emb_size     = emb_size, \n",
    "    hidden_size  = hidden_size, \n",
    "    drop_out     = 0.)"
   ]
  },
  {
   "cell_type": "code",
   "execution_count": 6,
   "id": "b35b8218-73ed-4520-8d3e-03819ec3b647",
   "metadata": {},
   "outputs": [
    {
     "name": "stderr",
     "output_type": "stream",
     "text": [
      "100%|█████████████████████████████████████████| 581/581 [00:29<00:00, 19.69it/s]\n",
      "100%|█████████████████████████████████████████| 146/146 [00:01<00:00, 77.64it/s]\n"
     ]
    },
    {
     "name": "stdout",
     "output_type": "stream",
     "text": [
      "Epoch 0 | Mean train loss  30.3678 |  Mean dev loss  17.3760 \n",
      "\n"
     ]
    },
    {
     "name": "stderr",
     "output_type": "stream",
     "text": [
      "100%|█████████████████████████████████████████| 581/581 [00:29<00:00, 19.75it/s]\n",
      "100%|█████████████████████████████████████████| 146/146 [00:02<00:00, 67.01it/s]\n"
     ]
    },
    {
     "name": "stdout",
     "output_type": "stream",
     "text": [
      "Epoch 1 | Mean train loss  14.1967 |  Mean dev loss  12.4934 \n",
      "\n"
     ]
    },
    {
     "name": "stderr",
     "output_type": "stream",
     "text": [
      "100%|█████████████████████████████████████████| 581/581 [00:29<00:00, 19.89it/s]\n",
      "100%|█████████████████████████████████████████| 146/146 [00:02<00:00, 69.36it/s]\n"
     ]
    },
    {
     "name": "stdout",
     "output_type": "stream",
     "text": [
      "Epoch 2 | Mean train loss  10.8008 |  Mean dev loss  9.8736 \n",
      "\n"
     ]
    },
    {
     "name": "stderr",
     "output_type": "stream",
     "text": [
      "100%|█████████████████████████████████████████| 581/581 [00:29<00:00, 19.85it/s]\n",
      "100%|█████████████████████████████████████████| 146/146 [00:02<00:00, 68.63it/s]\n"
     ]
    },
    {
     "name": "stdout",
     "output_type": "stream",
     "text": [
      "Epoch 3 | Mean train loss  8.8186 |  Mean dev loss  8.0413 \n",
      "\n"
     ]
    },
    {
     "name": "stderr",
     "output_type": "stream",
     "text": [
      "100%|█████████████████████████████████████████| 581/581 [00:29<00:00, 19.97it/s]\n",
      "100%|█████████████████████████████████████████| 146/146 [00:02<00:00, 64.04it/s]\n"
     ]
    },
    {
     "name": "stdout",
     "output_type": "stream",
     "text": [
      "Epoch 4 | Mean train loss  7.3161 |  Mean dev loss  7.1748 \n",
      "\n"
     ]
    },
    {
     "name": "stderr",
     "output_type": "stream",
     "text": [
      "100%|█████████████████████████████████████████| 581/581 [00:29<00:00, 19.63it/s]\n",
      "100%|█████████████████████████████████████████| 146/146 [00:02<00:00, 72.00it/s]\n"
     ]
    },
    {
     "name": "stdout",
     "output_type": "stream",
     "text": [
      "Epoch 5 | Mean train loss  6.3419 |  Mean dev loss  5.8997 \n",
      "\n"
     ]
    },
    {
     "name": "stderr",
     "output_type": "stream",
     "text": [
      "100%|█████████████████████████████████████████| 581/581 [00:29<00:00, 19.70it/s]\n",
      "100%|█████████████████████████████████████████| 146/146 [00:02<00:00, 69.27it/s]\n"
     ]
    },
    {
     "name": "stdout",
     "output_type": "stream",
     "text": [
      "Epoch 6 | Mean train loss  5.4658 |  Mean dev loss  5.2650 \n",
      "\n"
     ]
    },
    {
     "name": "stderr",
     "output_type": "stream",
     "text": [
      "100%|█████████████████████████████████████████| 581/581 [00:29<00:00, 19.62it/s]\n",
      "100%|█████████████████████████████████████████| 146/146 [00:02<00:00, 70.74it/s]\n"
     ]
    },
    {
     "name": "stdout",
     "output_type": "stream",
     "text": [
      "Epoch 7 | Mean train loss  4.8039 |  Mean dev loss  4.4984 \n",
      "\n"
     ]
    },
    {
     "name": "stderr",
     "output_type": "stream",
     "text": [
      "100%|█████████████████████████████████████████| 581/581 [00:29<00:00, 19.99it/s]\n",
      "100%|█████████████████████████████████████████| 146/146 [00:02<00:00, 68.36it/s]\n"
     ]
    },
    {
     "name": "stdout",
     "output_type": "stream",
     "text": [
      "Epoch 8 | Mean train loss  4.1807 |  Mean dev loss  4.1520 \n",
      "\n"
     ]
    },
    {
     "name": "stderr",
     "output_type": "stream",
     "text": [
      "100%|█████████████████████████████████████████| 581/581 [00:29<00:00, 19.80it/s]\n",
      "100%|█████████████████████████████████████████| 146/146 [00:02<00:00, 67.55it/s]\n"
     ]
    },
    {
     "name": "stdout",
     "output_type": "stream",
     "text": [
      "Epoch 9 | Mean train loss  3.7217 |  Mean dev loss  3.5725 \n",
      "\n"
     ]
    },
    {
     "name": "stderr",
     "output_type": "stream",
     "text": [
      "100%|█████████████████████████████████████████| 581/581 [00:29<00:00, 19.96it/s]\n",
      "100%|█████████████████████████████████████████| 146/146 [00:02<00:00, 68.35it/s]\n"
     ]
    },
    {
     "name": "stdout",
     "output_type": "stream",
     "text": [
      "Epoch 10 | Mean train loss  3.2857 |  Mean dev loss  3.2097 \n",
      "\n"
     ]
    },
    {
     "name": "stderr",
     "output_type": "stream",
     "text": [
      "100%|█████████████████████████████████████████| 581/581 [00:31<00:00, 18.67it/s]\n",
      "100%|█████████████████████████████████████████| 146/146 [00:02<00:00, 61.36it/s]\n"
     ]
    },
    {
     "name": "stdout",
     "output_type": "stream",
     "text": [
      "Epoch 11 | Mean train loss  2.9005 |  Mean dev loss  2.9310 \n",
      "\n"
     ]
    },
    {
     "name": "stderr",
     "output_type": "stream",
     "text": [
      "100%|█████████████████████████████████████████| 581/581 [00:30<00:00, 19.02it/s]\n",
      "100%|█████████████████████████████████████████| 146/146 [00:02<00:00, 67.68it/s]\n"
     ]
    },
    {
     "name": "stdout",
     "output_type": "stream",
     "text": [
      "Epoch 12 | Mean train loss  2.6254 |  Mean dev loss  2.4905 \n",
      "\n"
     ]
    },
    {
     "name": "stderr",
     "output_type": "stream",
     "text": [
      "100%|█████████████████████████████████████████| 581/581 [00:29<00:00, 19.53it/s]\n",
      "100%|█████████████████████████████████████████| 146/146 [00:02<00:00, 69.40it/s]\n"
     ]
    },
    {
     "name": "stdout",
     "output_type": "stream",
     "text": [
      "Epoch 13 | Mean train loss  2.3028 |  Mean dev loss  2.3677 \n",
      "\n"
     ]
    },
    {
     "name": "stderr",
     "output_type": "stream",
     "text": [
      "100%|█████████████████████████████████████████| 581/581 [00:30<00:00, 18.98it/s]\n",
      "100%|█████████████████████████████████████████| 146/146 [00:02<00:00, 69.37it/s]\n"
     ]
    },
    {
     "name": "stdout",
     "output_type": "stream",
     "text": [
      "Epoch 14 | Mean train loss  2.1020 |  Mean dev loss  2.0235 \n",
      "\n"
     ]
    },
    {
     "name": "stderr",
     "output_type": "stream",
     "text": [
      "100%|█████████████████████████████████████████| 581/581 [00:32<00:00, 17.91it/s]\n",
      "100%|█████████████████████████████████████████| 146/146 [00:02<00:00, 59.50it/s]\n"
     ]
    },
    {
     "name": "stdout",
     "output_type": "stream",
     "text": [
      "Epoch 15 | Mean train loss  1.8626 |  Mean dev loss  1.8770 \n",
      "\n"
     ]
    },
    {
     "name": "stderr",
     "output_type": "stream",
     "text": [
      "100%|█████████████████████████████████████████| 581/581 [00:31<00:00, 18.38it/s]\n",
      "100%|█████████████████████████████████████████| 146/146 [00:02<00:00, 71.01it/s]\n"
     ]
    },
    {
     "name": "stdout",
     "output_type": "stream",
     "text": [
      "Epoch 16 | Mean train loss  1.6658 |  Mean dev loss  1.7273 \n",
      "\n"
     ]
    },
    {
     "name": "stderr",
     "output_type": "stream",
     "text": [
      "100%|█████████████████████████████████████████| 581/581 [00:32<00:00, 18.01it/s]\n",
      "100%|█████████████████████████████████████████| 146/146 [00:02<00:00, 67.91it/s]\n"
     ]
    },
    {
     "name": "stdout",
     "output_type": "stream",
     "text": [
      "Epoch 17 | Mean train loss  1.5288 |  Mean dev loss  1.4665 \n",
      "\n"
     ]
    },
    {
     "name": "stderr",
     "output_type": "stream",
     "text": [
      "100%|█████████████████████████████████████████| 581/581 [00:32<00:00, 17.86it/s]\n",
      "100%|█████████████████████████████████████████| 146/146 [00:02<00:00, 61.81it/s]\n"
     ]
    },
    {
     "name": "stdout",
     "output_type": "stream",
     "text": [
      "Epoch 18 | Mean train loss  1.3773 |  Mean dev loss  1.3506 \n",
      "\n"
     ]
    },
    {
     "name": "stderr",
     "output_type": "stream",
     "text": [
      "100%|█████████████████████████████████████████| 581/581 [00:33<00:00, 17.17it/s]\n",
      "100%|█████████████████████████████████████████| 146/146 [00:02<00:00, 59.20it/s]\n"
     ]
    },
    {
     "name": "stdout",
     "output_type": "stream",
     "text": [
      "Epoch 19 | Mean train loss  1.2256 |  Mean dev loss  1.2767 \n",
      "\n"
     ]
    },
    {
     "name": "stderr",
     "output_type": "stream",
     "text": [
      "  0%|                                                   | 0/105 [00:00<?, ?it/s]\n"
     ]
    },
    {
     "ename": "AttributeError",
     "evalue": "'bool' object has no attribute 'sum'",
     "output_type": "error",
     "traceback": [
      "\u001b[0;31m---------------------------------------------------------------------------\u001b[0m",
      "\u001b[0;31mAttributeError\u001b[0m                            Traceback (most recent call last)",
      "Cell \u001b[0;32mIn[6], line 1\u001b[0m\n\u001b[0;32m----> 1\u001b[0m \u001b[43mmodel\u001b[49m\u001b[38;5;241;43m.\u001b[39;49m\u001b[43mtrain_model\u001b[49m\u001b[43m(\u001b[49m\u001b[43mtrainset\u001b[49m\u001b[43m,\u001b[49m\u001b[43mtestset\u001b[49m\u001b[43m,\u001b[49m\u001b[43m \u001b[49m\u001b[43mepochs\u001b[49m\u001b[38;5;241;43m=\u001b[39;49m\u001b[43m \u001b[49m\u001b[43mepochs\u001b[49m\u001b[43m,\u001b[49m\u001b[43m \u001b[49m\u001b[43mlr\u001b[49m\u001b[38;5;241;43m=\u001b[39;49m\u001b[43mlr\u001b[49m\u001b[43m,\u001b[49m\u001b[43m \u001b[49m\u001b[43mbatch_size\u001b[49m\u001b[43m \u001b[49m\u001b[38;5;241;43m=\u001b[39;49m\u001b[43m \u001b[49m\u001b[43mbatch_size\u001b[49m\u001b[43m,\u001b[49m\u001b[43m \u001b[49m\u001b[43msplit_train\u001b[49m\u001b[38;5;241;43m=\u001b[39;49m\u001b[38;5;241;43m0.8\u001b[39;49m\u001b[43m)\u001b[49m\n",
      "File \u001b[0;32m~/Projects/MWE/rnn_classifier.py:103\u001b[0m, in \u001b[0;36mMweRNN.train_model\u001b[0;34m(self, train_data, test_data, epochs, lr, batch_size, device, split_train)\u001b[0m\n\u001b[1;32m    100\u001b[0m     \u001b[38;5;28mprint\u001b[39m(\u001b[38;5;124m\"\u001b[39m\u001b[38;5;124mEpoch \u001b[39m\u001b[38;5;132;01m%d\u001b[39;00m\u001b[38;5;124m | Mean train loss  \u001b[39m\u001b[38;5;132;01m%.4f\u001b[39;00m\u001b[38;5;124m |  Mean dev loss  \u001b[39m\u001b[38;5;132;01m%.4f\u001b[39;00m\u001b[38;5;124m \u001b[39m\u001b[38;5;124m\"\u001b[39m \u001b[38;5;241m%\u001b[39m (e, loss, valid_loss))\n\u001b[1;32m    101\u001b[0m     \u001b[38;5;28mprint\u001b[39m()\n\u001b[0;32m--> 103\u001b[0m TP, FP, FN, average_precision, average_recall, average_f1_score, weighted_f1_score, weighted_recall, weighted_precision \u001b[38;5;241m=\u001b[39m \u001b[38;5;28;43mself\u001b[39;49m\u001b[38;5;241;43m.\u001b[39;49m\u001b[43mevaluate\u001b[49m\u001b[43m(\u001b[49m\u001b[43mtest_loader\u001b[49m\u001b[43m)\u001b[49m\n\u001b[1;32m    104\u001b[0m \u001b[38;5;28mprint\u001b[39m(\u001b[38;5;124m\"\u001b[39m\u001b[38;5;124mAVR: Precision \u001b[39m\u001b[38;5;132;01m%.4f\u001b[39;00m\u001b[38;5;124m | Recall  \u001b[39m\u001b[38;5;132;01m%.4f\u001b[39;00m\u001b[38;5;124m |  F-score  \u001b[39m\u001b[38;5;132;01m%.4f\u001b[39;00m\u001b[38;5;124m \u001b[39m\u001b[38;5;124m\"\u001b[39m \u001b[38;5;241m%\u001b[39m (average_precision, average_recall, average_f1_score))\n\u001b[1;32m    105\u001b[0m \u001b[38;5;28mprint\u001b[39m(\u001b[38;5;124m\"\u001b[39m\u001b[38;5;124mWeighted: Precision \u001b[39m\u001b[38;5;132;01m%.4f\u001b[39;00m\u001b[38;5;124m | Recall  \u001b[39m\u001b[38;5;132;01m%.4f\u001b[39;00m\u001b[38;5;124m |  F-score  \u001b[39m\u001b[38;5;132;01m%.4f\u001b[39;00m\u001b[38;5;124m \u001b[39m\u001b[38;5;124m\"\u001b[39m \u001b[38;5;241m%\u001b[39m (weighted_f1_score, weighted_recall, weighted_precision))\n",
      "File \u001b[0;32m~/Projects/MWE/rnn_classifier.py:158\u001b[0m, in \u001b[0;36mMweRNN.evaluate\u001b[0;34m(self, test_loader)\u001b[0m\n\u001b[1;32m    156\u001b[0m                 FP[tag] \u001b[38;5;241m+\u001b[39m\u001b[38;5;241m=\u001b[39m ((path \u001b[38;5;241m==\u001b[39m tag) \u001b[38;5;241m&\u001b[39m (gold \u001b[38;5;241m!=\u001b[39m tag))\u001b[38;5;241m.\u001b[39msum()\n\u001b[1;32m    157\u001b[0m                 FN[tag] \u001b[38;5;241m+\u001b[39m\u001b[38;5;241m=\u001b[39m ((path \u001b[38;5;241m!=\u001b[39m tag) \u001b[38;5;241m&\u001b[39m (gold \u001b[38;5;241m==\u001b[39m tag))\u001b[38;5;241m.\u001b[39msum()\n\u001b[0;32m--> 158\u001b[0m                 class_counts[tag] \u001b[38;5;241m+\u001b[39m\u001b[38;5;241m=\u001b[39m \u001b[43m(\u001b[49m\u001b[43mgold\u001b[49m\u001b[43m \u001b[49m\u001b[38;5;241;43m==\u001b[39;49m\u001b[43m \u001b[49m\u001b[43mtag\u001b[49m\u001b[43m)\u001b[49m\u001b[38;5;241;43m.\u001b[39;49m\u001b[43msum\u001b[49m()\n\u001b[1;32m    161\u001b[0m \u001b[38;5;66;03m# Calculate precision, recall, and F1 score for each tag\u001b[39;00m\n\u001b[1;32m    162\u001b[0m precision \u001b[38;5;241m=\u001b[39m TP \u001b[38;5;241m/\u001b[39m (TP \u001b[38;5;241m+\u001b[39m FP)\n",
      "\u001b[0;31mAttributeError\u001b[0m: 'bool' object has no attribute 'sum'"
     ]
    }
   ],
   "source": [
    "model.train_model(trainset,testset, epochs= epochs, lr=lr, batch_size = batch_size, split_train=0.8)"
   ]
  },
  {
   "cell_type": "code",
   "execution_count": null,
   "id": "5d96f9d9-df98-4429-8b34-f4e02e45ff3c",
   "metadata": {},
   "outputs": [],
   "source": [
    "TP, FP, FN, average_precision, average_recall, average_f1_score, weighted_f1_score, weighted_recall, weighted_precision = model.evaluate()"
   ]
  },
  {
   "cell_type": "code",
   "execution_count": 64,
   "id": "fddbc663-6723-4c17-8fd8-b3e4c14e8f10",
   "metadata": {},
   "outputs": [
    {
     "name": "stderr",
     "output_type": "stream",
     "text": [
      "100%|█████████████████████████████████████████████| 4/4 [00:04<00:00,  1.14s/it]\n"
     ]
    }
   ],
   "source": [
    "num_tags = len(model.tags_vocab)\n",
    "# print(num_tags)\n",
    "TP = torch.zeros(num_tags)\n",
    "FP = torch.zeros(num_tags)\n",
    "FN = torch.zeros(num_tags)\n",
    "class_counts = torch.zeros(num_tags)\n",
    "with torch.no_grad():\n",
    "            \n",
    "    for X_toks, Y_golds in tqdm(testset.get_loader(batch_size = 500)):\n",
    "    # Forward pass\n",
    "        logprobs, masks = model.forward(X_toks)\n",
    "        best_score, best_paths = model.crf(logprobs, masks) #viterbi\n",
    "        #best_paths = pad_sequence(best_paths, padding_value= testset.tags_vocab[\"<pad>\"]).T\n",
    "        #print(best_paths.shape)\n",
    "        # Mask out the padding positions\n",
    "        \n",
    "        for i in range(len(best_paths)):\n",
    "            str = list(model.tags_vocab.rev_lookup(int(i))for i in gold if i!= model.padidx)\n",
    "            path = best_paths[i]\n",
    "            gold = torch.tensor([j for j in Y_golds[i] if j != model.padidx])\n",
    "            for tag in path:\n",
    "                TP[tag] += ((path == tag) & (gold == tag)).sum()\n",
    "                FP[tag] += ((path == tag) & (gold != tag)).sum()\n",
    "                FN[tag] += ((path != tag) & (gold == tag)).sum()\n",
    "                class_counts[tag] += (gold == tag).sum()\n",
    "                \n",
    "            "
   ]
  },
  {
   "cell_type": "code",
   "execution_count": 73,
   "id": "7ffa0e20-29a8-4f88-a45a-d36a8c4dafb6",
   "metadata": {},
   "outputs": [],
   "source": [
    "precision = TP / (TP + FP)\n",
    "# avoid nan\n",
    "nan_mask = torch.isnan(precision)\n",
    "precision[nan_mask] = 0.\n",
    "\n",
    "recall = TP / (TP + FN)\n",
    "# avoid nan\n",
    "nan_mask = torch.isnan(recall)\n",
    "recall[nan_mask] = 0.\n",
    "\n",
    "f1_score = 2 * (precision * recall) / (precision + recall)\n",
    "# avoid nan\n",
    "nan_mask = torch.isnan(f1_score)\n",
    "f1_score[nan_mask] = 0.\n",
    "# Calculate class weights\n",
    "class_weights = class_counts / class_counts.sum()"
   ]
  },
  {
   "cell_type": "code",
   "execution_count": 74,
   "id": "3d1e65ce-18ba-4594-8f7f-349b5c73b944",
   "metadata": {},
   "outputs": [
    {
     "name": "stdout",
     "output_type": "stream",
     "text": [
      "<unk> tensor(0.)\n",
      "<pad> tensor(0.)\n",
      "B_CL tensor(0.9306)\n",
      "I_V tensor(1.)\n",
      "I_ADV tensor(0.)\n",
      "B_V tensor(0.9560)\n",
      "B_P tensor(0.9091)\n",
      "B_A tensor(0.7545)\n",
      "B_D tensor(0.9697)\n",
      "B_N tensor(0.8596)\n",
      "B_PONCT tensor(0.9672)\n",
      "B_C tensor(0.9172)\n",
      "B__ tensor(0.9938)\n",
      "B_ADV tensor(0.8123)\n",
      "I_N tensor(0.8571)\n",
      "I_C tensor(1.)\n",
      "I_CL tensor(0.)\n",
      "I_D tensor(0.8333)\n",
      "I_P tensor(0.6250)\n",
      "I_PONCT tensor(0.)\n",
      "I_A tensor(0.)\n",
      "B_PREF tensor(1.)\n",
      "B_I tensor(0.)\n",
      "B_ET tensor(0.)\n",
      "I_ET tensor(0.)\n",
      "B_NC tensor(0.)\n",
      "B_S tensor(0.)\n",
      "B_X tensor(0.)\n"
     ]
    }
   ],
   "source": [
    "for tag in range(num_tags):\n",
    "    print(model.tags_vocab.rev_lookup(tag), precision[tag])"
   ]
  },
  {
   "cell_type": "code",
   "execution_count": 69,
   "id": "e3a45e1b-6998-4aae-8d92-0faf9e170216",
   "metadata": {},
   "outputs": [
    {
     "name": "stdout",
     "output_type": "stream",
     "text": [
      "<unk> tensor(0.)\n",
      "<pad> tensor(0.)\n",
      "B_CL tensor(3290.)\n",
      "I_V tensor(2.)\n",
      "I_ADV tensor(0.)\n",
      "B_V tensor(16242.)\n",
      "B_P tensor(35511.)\n",
      "B_A tensor(7129.)\n",
      "B_D tensor(29758.)\n",
      "B_N tensor(81717.)\n",
      "B_PONCT tensor(16081.)\n",
      "B_C tensor(2267.)\n",
      "B__ tensor(1761.)\n",
      "B_ADV tensor(2218.)\n",
      "I_N tensor(14.)\n",
      "I_C tensor(2.)\n",
      "I_CL tensor(0.)\n",
      "I_D tensor(7.)\n",
      "I_P tensor(9.)\n",
      "I_PONCT tensor(0.)\n",
      "I_A tensor(0.)\n",
      "B_PREF tensor(4.)\n",
      "B_I tensor(0.)\n",
      "B_ET tensor(0.)\n",
      "I_ET tensor(0.)\n",
      "B_NC tensor(0.)\n",
      "B_S tensor(0.)\n",
      "B_X tensor(0.)\n"
     ]
    }
   ],
   "source": [
    "for tag in range(num_tags):\n",
    "    print(model.tags_vocab.rev_lookup(tag), class_counts[tag])"
   ]
  },
  {
   "cell_type": "code",
   "execution_count": null,
   "id": "f2f1ef05-1d61-44bb-be0c-e0eb7c38d12d",
   "metadata": {},
   "outputs": [],
   "source": []
  },
  {
   "cell_type": "code",
   "execution_count": 77,
   "id": "a3723d96-e37f-4623-9229-fdf28207b182",
   "metadata": {},
   "outputs": [],
   "source": [
    "weighted_f1_score = (f1_score * class_weights)\n",
    "weighted_recall = (recall * class_weights)\n",
    "weighted_precision = (precision * class_weights)"
   ]
  },
  {
   "cell_type": "code",
   "execution_count": 15,
   "id": "d006285c-7685-4ab5-8db8-6547c09f360a",
   "metadata": {},
   "outputs": [
    {
     "name": "stdout",
     "output_type": "stream",
     "text": [
      "tensor(0.9184)\n",
      "tensor(0.9386)\n",
      "tensor(0.9386)\n"
     ]
    }
   ],
   "source": [
    "print(sum(weighted_f1_score))\n",
    "print(sum(weighted_recall))\n",
    "print(sum(weighted_recall))"
   ]
  },
  {
   "cell_type": "code",
   "execution_count": 80,
   "id": "427b3262-e6d8-436f-b982-c05a5c505ac0",
   "metadata": {},
   "outputs": [
    {
     "name": "stdout",
     "output_type": "stream",
     "text": [
      "<unk> tensor(0.)\n",
      "<pad> tensor(0.)\n",
      "B_CL tensor(0.9440)\n",
      "I_V tensor(0.6667)\n",
      "I_ADV tensor(0.)\n",
      "B_V tensor(0.9277)\n",
      "B_P tensor(0.9387)\n",
      "B_A tensor(0.7683)\n",
      "B_D tensor(0.9375)\n",
      "B_N tensor(0.9005)\n",
      "B_PONCT tensor(0.9833)\n",
      "B_C tensor(0.9393)\n",
      "B__ tensor(0.9963)\n",
      "B_ADV tensor(0.8186)\n",
      "I_N tensor(0.8571)\n",
      "I_C tensor(1.)\n",
      "I_CL tensor(0.)\n",
      "I_D tensor(0.7692)\n",
      "I_P tensor(0.5882)\n",
      "I_PONCT tensor(0.)\n",
      "I_A tensor(0.)\n",
      "B_PREF tensor(1.)\n",
      "B_I tensor(0.)\n",
      "B_ET tensor(0.)\n",
      "I_ET tensor(0.)\n",
      "B_NC tensor(0.)\n",
      "B_S tensor(0.)\n",
      "B_X tensor(0.)\n"
     ]
    }
   ],
   "source": [
    "for tag in range(num_tags):\n",
    "    print(model.tags_vocab.rev_lookup(tag), f1_score[tag])"
   ]
  },
  {
   "cell_type": "markdown",
   "id": "abed597a-9a0f-4f22-9261-075ed0d3a64e",
   "metadata": {},
   "source": [
    "# RNN Layer + Attention Layer + CRF decoder"
   ]
  },
  {
   "cell_type": "code",
   "execution_count": 9,
   "id": "97760fe1-beff-453c-a48b-0e4d7eb9c0cc",
   "metadata": {},
   "outputs": [],
   "source": [
    "#define the hyperparameters\n",
    "batch_size    = 16\n",
    "window_size   =  6#left context and right context\n",
    "lr            = 1e-2\n",
    "device        = \"cpu\"\n",
    "epochs        = 20\n",
    "emb_size      = 64\n",
    "hidden_size   = 64\n",
    "drop_out      = 0.1"
   ]
  },
  {
   "cell_type": "code",
   "execution_count": 10,
   "id": "17bba45b-a705-4366-91d8-84f61e557168",
   "metadata": {},
   "outputs": [
    {
     "name": "stdout",
     "output_type": "stream",
     "text": [
      "token Vocab size 35693\n",
      "token Vocab size 35693\n"
     ]
    }
   ],
   "source": [
    "trainset     = rnn_dataset.MweRnnDataset(\"corpus/train.conllu\",  isTrain = True)\n",
    "testset      = rnn_dataset.MweRnnDataset(\"corpus/test.conllu\")"
   ]
  },
  {
   "cell_type": "code",
   "execution_count": 11,
   "id": "6e68756f-3f34-4640-8f6a-f2f835d753d6",
   "metadata": {},
   "outputs": [],
   "source": [
    "model = rnn_classifier.MweRNN(\n",
    "    name         = \"rnn\",\n",
    "    toks_vocab   = trainset.toks_vocab,\n",
    "    tags_vocab   = trainset.tags_vocab, \n",
    "    emb_size     = emb_size, \n",
    "    hidden_size  = hidden_size, \n",
    "    drop_out     = 0.)"
   ]
  },
  {
   "cell_type": "code",
   "execution_count": 12,
   "id": "4d9defe0-61ca-4a73-9daf-5998a1a66920",
   "metadata": {},
   "outputs": [
    {
     "name": "stderr",
     "output_type": "stream",
     "text": [
      "100%|█████████████████████████████████████████| 581/581 [00:31<00:00, 18.33it/s]\n",
      "100%|█████████████████████████████████████████| 146/146 [00:02<00:00, 70.27it/s]\n"
     ]
    },
    {
     "name": "stdout",
     "output_type": "stream",
     "text": [
      "Epoch 0 | Mean train loss  12.0193 |  Mean dev loss  6.7987 \n",
      "\n"
     ]
    },
    {
     "name": "stderr",
     "output_type": "stream",
     "text": [
      "100%|█████████████████████████████████████████| 581/581 [00:31<00:00, 18.33it/s]\n",
      "100%|█████████████████████████████████████████| 146/146 [00:02<00:00, 66.87it/s]\n"
     ]
    },
    {
     "name": "stdout",
     "output_type": "stream",
     "text": [
      "Epoch 1 | Mean train loss  4.5913 |  Mean dev loss  4.2064 \n",
      "\n"
     ]
    },
    {
     "name": "stderr",
     "output_type": "stream",
     "text": [
      "100%|█████████████████████████████████████████| 581/581 [00:30<00:00, 19.36it/s]\n",
      "100%|█████████████████████████████████████████| 146/146 [00:02<00:00, 69.21it/s]\n"
     ]
    },
    {
     "name": "stdout",
     "output_type": "stream",
     "text": [
      "Epoch 2 | Mean train loss  2.7259 |  Mean dev loss  2.5497 \n",
      "\n"
     ]
    },
    {
     "name": "stderr",
     "output_type": "stream",
     "text": [
      "100%|█████████████████████████████████████████| 581/581 [00:29<00:00, 19.75it/s]\n",
      "100%|█████████████████████████████████████████| 146/146 [00:02<00:00, 65.60it/s]\n"
     ]
    },
    {
     "name": "stdout",
     "output_type": "stream",
     "text": [
      "Epoch 3 | Mean train loss  1.8030 |  Mean dev loss  1.8576 \n",
      "\n"
     ]
    },
    {
     "name": "stderr",
     "output_type": "stream",
     "text": [
      "100%|█████████████████████████████████████████| 581/581 [00:29<00:00, 19.90it/s]\n",
      "100%|█████████████████████████████████████████| 146/146 [00:02<00:00, 60.51it/s]\n"
     ]
    },
    {
     "name": "stdout",
     "output_type": "stream",
     "text": [
      "Epoch 4 | Mean train loss  1.3155 |  Mean dev loss  1.3191 \n",
      "\n"
     ]
    },
    {
     "name": "stderr",
     "output_type": "stream",
     "text": [
      "100%|█████████████████████████████████████████| 581/581 [00:29<00:00, 19.42it/s]\n",
      "100%|█████████████████████████████████████████| 146/146 [00:02<00:00, 64.76it/s]\n"
     ]
    },
    {
     "name": "stdout",
     "output_type": "stream",
     "text": [
      "Epoch 5 | Mean train loss  1.0527 |  Mean dev loss  1.2239 \n",
      "\n"
     ]
    },
    {
     "name": "stderr",
     "output_type": "stream",
     "text": [
      "100%|█████████████████████████████████████████| 581/581 [00:29<00:00, 19.59it/s]\n",
      "100%|█████████████████████████████████████████| 146/146 [00:02<00:00, 66.10it/s]\n"
     ]
    },
    {
     "name": "stdout",
     "output_type": "stream",
     "text": [
      "Epoch 6 | Mean train loss  0.9031 |  Mean dev loss  1.1100 \n",
      "\n"
     ]
    },
    {
     "name": "stderr",
     "output_type": "stream",
     "text": [
      "100%|█████████████████████████████████████████| 581/581 [00:29<00:00, 19.70it/s]\n",
      "100%|█████████████████████████████████████████| 146/146 [00:02<00:00, 67.22it/s]\n"
     ]
    },
    {
     "name": "stdout",
     "output_type": "stream",
     "text": [
      "Epoch 7 | Mean train loss  0.8308 |  Mean dev loss  0.9874 \n",
      "\n"
     ]
    },
    {
     "name": "stderr",
     "output_type": "stream",
     "text": [
      "100%|█████████████████████████████████████████| 581/581 [00:32<00:00, 18.14it/s]\n",
      "100%|█████████████████████████████████████████| 146/146 [00:02<00:00, 65.08it/s]\n"
     ]
    },
    {
     "name": "stdout",
     "output_type": "stream",
     "text": [
      "Epoch 8 | Mean train loss  1.1247 |  Mean dev loss  2.5232 \n",
      "\n"
     ]
    },
    {
     "name": "stderr",
     "output_type": "stream",
     "text": [
      "100%|█████████████████████████████████████████| 581/581 [00:30<00:00, 19.13it/s]\n",
      "100%|█████████████████████████████████████████| 146/146 [00:02<00:00, 67.18it/s]\n"
     ]
    },
    {
     "name": "stdout",
     "output_type": "stream",
     "text": [
      "Epoch 9 | Mean train loss  2.1894 |  Mean dev loss  1.8341 \n",
      "\n"
     ]
    },
    {
     "name": "stderr",
     "output_type": "stream",
     "text": [
      "100%|█████████████████████████████████████████| 581/581 [00:30<00:00, 19.02it/s]\n",
      "100%|█████████████████████████████████████████| 146/146 [00:02<00:00, 58.87it/s]\n"
     ]
    },
    {
     "name": "stdout",
     "output_type": "stream",
     "text": [
      "Epoch 10 | Mean train loss  1.2867 |  Mean dev loss  1.2812 \n",
      "\n"
     ]
    },
    {
     "name": "stderr",
     "output_type": "stream",
     "text": [
      "100%|█████████████████████████████████████████| 581/581 [00:33<00:00, 17.46it/s]\n",
      "100%|█████████████████████████████████████████| 146/146 [00:03<00:00, 47.96it/s]\n"
     ]
    },
    {
     "name": "stdout",
     "output_type": "stream",
     "text": [
      "Epoch 11 | Mean train loss  1.0197 |  Mean dev loss  1.2670 \n",
      "\n"
     ]
    },
    {
     "name": "stderr",
     "output_type": "stream",
     "text": [
      "100%|█████████████████████████████████████████| 581/581 [00:33<00:00, 17.60it/s]\n",
      "100%|█████████████████████████████████████████| 146/146 [00:02<00:00, 56.95it/s]\n"
     ]
    },
    {
     "name": "stdout",
     "output_type": "stream",
     "text": [
      "Epoch 12 | Mean train loss  0.9808 |  Mean dev loss  1.6853 \n",
      "\n"
     ]
    },
    {
     "name": "stderr",
     "output_type": "stream",
     "text": [
      "100%|█████████████████████████████████████████| 581/581 [00:34<00:00, 17.04it/s]\n",
      "100%|█████████████████████████████████████████| 146/146 [00:02<00:00, 57.79it/s]\n"
     ]
    },
    {
     "name": "stdout",
     "output_type": "stream",
     "text": [
      "Epoch 13 | Mean train loss  1.7437 |  Mean dev loss  2.6243 \n",
      "\n"
     ]
    },
    {
     "name": "stderr",
     "output_type": "stream",
     "text": [
      "100%|█████████████████████████████████████████| 581/581 [00:34<00:00, 16.90it/s]\n",
      "100%|█████████████████████████████████████████| 146/146 [00:02<00:00, 57.74it/s]\n"
     ]
    },
    {
     "name": "stdout",
     "output_type": "stream",
     "text": [
      "Epoch 14 | Mean train loss  1.8777 |  Mean dev loss  1.6229 \n",
      "\n"
     ]
    },
    {
     "name": "stderr",
     "output_type": "stream",
     "text": [
      "100%|█████████████████████████████████████████| 581/581 [00:33<00:00, 17.27it/s]\n",
      "100%|█████████████████████████████████████████| 146/146 [00:02<00:00, 57.71it/s]\n"
     ]
    },
    {
     "name": "stdout",
     "output_type": "stream",
     "text": [
      "Epoch 15 | Mean train loss  1.2462 |  Mean dev loss  1.4156 \n",
      "\n"
     ]
    },
    {
     "name": "stderr",
     "output_type": "stream",
     "text": [
      "100%|█████████████████████████████████████████| 581/581 [00:32<00:00, 17.62it/s]\n",
      "100%|█████████████████████████████████████████| 146/146 [00:02<00:00, 61.70it/s]\n"
     ]
    },
    {
     "name": "stdout",
     "output_type": "stream",
     "text": [
      "Epoch 16 | Mean train loss  1.1232 |  Mean dev loss  1.4860 \n",
      "\n"
     ]
    },
    {
     "name": "stderr",
     "output_type": "stream",
     "text": [
      "100%|█████████████████████████████████████████| 581/581 [00:34<00:00, 17.03it/s]\n",
      "100%|█████████████████████████████████████████| 146/146 [00:02<00:00, 59.41it/s]\n"
     ]
    },
    {
     "name": "stdout",
     "output_type": "stream",
     "text": [
      "Epoch 17 | Mean train loss  1.0963 |  Mean dev loss  1.4831 \n",
      "\n"
     ]
    },
    {
     "name": "stderr",
     "output_type": "stream",
     "text": [
      "100%|█████████████████████████████████████████| 581/581 [00:30<00:00, 18.99it/s]\n",
      "100%|█████████████████████████████████████████| 146/146 [00:02<00:00, 64.22it/s]\n"
     ]
    },
    {
     "name": "stdout",
     "output_type": "stream",
     "text": [
      "Epoch 18 | Mean train loss  1.7235 |  Mean dev loss  1.7566 \n",
      "\n"
     ]
    },
    {
     "name": "stderr",
     "output_type": "stream",
     "text": [
      "100%|█████████████████████████████████████████| 581/581 [00:31<00:00, 18.27it/s]\n",
      "100%|█████████████████████████████████████████| 146/146 [00:02<00:00, 70.84it/s]\n"
     ]
    },
    {
     "name": "stdout",
     "output_type": "stream",
     "text": [
      "Epoch 19 | Mean train loss  1.5869 |  Mean dev loss  1.4515 \n",
      "\n"
     ]
    },
    {
     "name": "stderr",
     "output_type": "stream",
     "text": [
      "100%|█████████████████████████████████████████| 105/105 [00:04<00:00, 21.90it/s]"
     ]
    },
    {
     "name": "stdout",
     "output_type": "stream",
     "text": [
      "AVR: Precision 0.5373 | Recall  0.5202 |  F-score  0.5246 \n",
      "Weighted: Precision 0.9105 | Recall  0.9442 |  F-score  0.8833 \n"
     ]
    },
    {
     "name": "stderr",
     "output_type": "stream",
     "text": [
      "\n"
     ]
    }
   ],
   "source": [
    "model.train_model(trainset,testset, epochs= epochs, lr=lr, batch_size = batch_size, split_train=0.8)"
   ]
  },
  {
   "cell_type": "code",
   "execution_count": 6,
   "id": "42fc6a51-5d2d-473d-8dd1-c089055db9bf",
   "metadata": {},
   "outputs": [
    {
     "name": "stderr",
     "output_type": "stream",
     "text": [
      "100%|█████████████████████████████████████████████| 4/4 [00:05<00:00,  1.35s/it]\n"
     ]
    }
   ],
   "source": [
    "num_tags = len(model.tags_vocab)\n",
    "# print(num_tags)\n",
    "TP = torch.zeros(num_tags)\n",
    "FP = torch.zeros(num_tags)\n",
    "FN = torch.zeros(num_tags)\n",
    "class_counts = torch.zeros(num_tags)\n",
    "with torch.no_grad():\n",
    "            \n",
    "    for X_toks, Y_golds in tqdm(testset.get_loader(batch_size = 500)):\n",
    "    # Forward pass\n",
    "        logits, masks = model.forward(X_toks)\n",
    "        best_score, best_paths = model.crf(logits, masks) #viterbi\n",
    "        #best_paths = pad_sequence(best_paths, padding_value= testset.tags_vocab[\"<pad>\"]).T\n",
    "        #print(best_paths.shape)\n",
    "        # Mask out the padding positions\n",
    "        \n",
    "        for i in range(len(best_paths)):\n",
    "            str = list(model.tags_vocab.rev_lookup(int(i))for i in Y_golds[i] if i!= model.padidx)\n",
    "            path = best_paths[i]\n",
    "            gold = torch.tensor([j for j in Y_golds[i] if j != model.padidx])\n",
    "            for tag in path:\n",
    "                TP[tag] += ((path == tag) & (gold == tag)).sum()\n",
    "                FP[tag] += ((path == tag) & (gold != tag)).sum()\n",
    "                FN[tag] += ((path != tag) & (gold == tag)).sum()\n",
    "                class_counts[tag] += (gold == tag).sum()\n",
    "              "
   ]
  },
  {
   "cell_type": "code",
   "execution_count": 7,
   "id": "edf2fd74-636b-4b09-8ced-bc39c7d7b058",
   "metadata": {},
   "outputs": [],
   "source": [
    "precision = TP / (TP + FP)\n",
    "# avoid nan\n",
    "nan_mask = torch.isnan(precision)\n",
    "precision[nan_mask] = 0.\n",
    "\n",
    "recall = TP / (TP + FN)\n",
    "# avoid nan\n",
    "nan_mask = torch.isnan(recall)\n",
    "recall[nan_mask] = 0.\n",
    "\n",
    "f1_score = 2 * (precision * recall) / (precision + recall)\n",
    "# avoid nan\n",
    "nan_mask = torch.isnan(f1_score)\n",
    "f1_score[nan_mask] = 0.\n",
    "# Calculate class weights\n",
    "class_weights = class_counts / class_counts.sum()"
   ]
  },
  {
   "cell_type": "code",
   "execution_count": 8,
   "id": "72c5d5d1-0a72-48f0-bfc9-2f8d220a21f3",
   "metadata": {},
   "outputs": [
    {
     "name": "stdout",
     "output_type": "stream",
     "text": [
      "<unk> tensor(0.)\n",
      "<pad> tensor(0.)\n",
      "B_CL tensor(0.9182)\n",
      "I_V tensor(0.6667)\n",
      "I_ADV tensor(0.)\n",
      "B_V tensor(0.8877)\n",
      "B_P tensor(0.9400)\n",
      "B_A tensor(0.7496)\n",
      "B_D tensor(0.9318)\n",
      "B_N tensor(0.8716)\n",
      "B_PONCT tensor(0.9820)\n",
      "B_C tensor(0.9292)\n",
      "B__ tensor(0.9997)\n",
      "B_ADV tensor(0.7915)\n",
      "I_N tensor(0.7429)\n",
      "I_C tensor(0.1429)\n",
      "I_CL tensor(0.)\n",
      "I_D tensor(0.8095)\n",
      "I_P tensor(0.3158)\n",
      "I_PONCT tensor(0.3158)\n",
      "I_A tensor(0.5333)\n",
      "B_PREF tensor(0.8889)\n",
      "B_I tensor(0.)\n",
      "B_ET tensor(0.)\n",
      "I_ET tensor(0.)\n",
      "B_NC tensor(0.)\n",
      "B_S tensor(0.)\n",
      "B_X tensor(0.)\n"
     ]
    }
   ],
   "source": [
    "for tag in range(num_tags):\n",
    "    print(model.tags_vocab.rev_lookup(tag), f1_score[tag])"
   ]
  },
  {
   "cell_type": "code",
   "execution_count": 11,
   "id": "7e6347bd-22f4-438d-9e44-c1c92e386bd0",
   "metadata": {},
   "outputs": [],
   "source": [
    "weighted_f1_score = (f1_score * class_weights)\n",
    "weighted_recall = (recall * class_weights)\n",
    "weighted_precision = (precision * class_weights)"
   ]
  },
  {
   "cell_type": "code",
   "execution_count": 12,
   "id": "3b48b937-0e7f-43ae-af16-2394d7643e60",
   "metadata": {},
   "outputs": [
    {
     "name": "stdout",
     "output_type": "stream",
     "text": [
      "tensor(0.9072)\n",
      "tensor(0.9160)\n",
      "tensor(0.9160)\n"
     ]
    }
   ],
   "source": [
    "print(sum(weighted_f1_score))\n",
    "print(sum(weighted_recall))\n",
    "print(sum(weighted_recall))"
   ]
  },
  {
   "cell_type": "code",
   "execution_count": 13,
   "id": "0c1722fb-9763-4c2a-b60d-f7a1c149216a",
   "metadata": {},
   "outputs": [
    {
     "name": "stdout",
     "output_type": "stream",
     "text": [
      "tensor(0.5314)\n",
      "tensor(0.5052)\n",
      "tensor(0.5134)\n"
     ]
    }
   ],
   "source": []
  },
  {
   "cell_type": "code",
   "execution_count": null,
   "id": "41f4f04d-ae51-4b2a-83db-21fd3a3daae2",
   "metadata": {},
   "outputs": [],
   "source": []
  }
 ],
 "metadata": {
  "kernelspec": {
   "display_name": "Python 3 (ipykernel)",
   "language": "python",
   "name": "python3"
  },
  "language_info": {
   "codemirror_mode": {
    "name": "ipython",
    "version": 3
   },
   "file_extension": ".py",
   "mimetype": "text/x-python",
   "name": "python",
   "nbconvert_exporter": "python",
   "pygments_lexer": "ipython3",
   "version": "3.10.6"
  }
 },
 "nbformat": 4,
 "nbformat_minor": 5
}
