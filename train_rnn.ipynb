{
 "cells": [
  {
   "cell_type": "markdown",
   "id": "4754b7be-8a95-4e0f-a178-f2099058c193",
   "metadata": {},
   "source": [
    "# RNN Model with crf"
   ]
  },
  {
   "cell_type": "code",
   "execution_count": 2,
   "id": "2e6733bd-6ba1-414e-93c0-742749f4a6cf",
   "metadata": {},
   "outputs": [],
   "source": [
    "import rnn_dataset\n",
    "import rnn_classifier\n",
    "from crf import CRF\n",
    "import torch\n",
    "from data_utils import Vocabulary\n",
    "from torch.utils.data import Dataset, DataLoader, random_split\n",
    "from collections import Counter\n",
    "import itertools\n",
    "import torch.nn as nn\n",
    "from tqdm import tqdm\n",
    "import numpy as np\n",
    "import seaborn as sns\n",
    "import matplotlib.pyplot as plt\n",
    "import os\n",
    "from torch.nn.utils.rnn import pad_sequence\n",
    "import pyconll\n"
   ]
  },
  {
   "cell_type": "code",
   "execution_count": 2,
   "id": "587cf793-09d8-49d1-855a-38c968edf240",
   "metadata": {},
   "outputs": [],
   "source": [
    "#define the hyperparameters\n",
    "batch_size    = 16\n",
    "lr            = 1e-3\n",
    "device        = \"cpu\"\n",
    "epochs        = 30\n",
    "emb_size      = 64\n",
    "hidden_size   = 64\n",
    "nb_layers     = 1\n",
    "drop_out      = 0.1"
   ]
  },
  {
   "cell_type": "code",
   "execution_count": 3,
   "id": "be7e3803-b1fa-4826-b987-765fd3e322df",
   "metadata": {
    "scrolled": true
   },
   "outputs": [
    {
     "name": "stdout",
     "output_type": "stream",
     "text": [
      "token Vocab size 35693\n",
      "token Vocab size 35693\n"
     ]
    }
   ],
   "source": [
    "trainset     = rnn_dataset.RnnDataset(\"corpus/train.conllu\",  isTrain = True)\n",
    "testset      = rnn_dataset.RnnDataset(\"corpus/test.conllu\")"
   ]
  },
  {
   "cell_type": "code",
   "execution_count": 4,
   "id": "006e698f-db8b-4226-839c-0836e83f6f99",
   "metadata": {},
   "outputs": [
    {
     "name": "stdout",
     "output_type": "stream",
     "text": [
      "['B', 'B', 'B', 'B', 'B', 'B', 'B', 'B', 'B', 'B', 'B', 'B', 'B', 'B', 'B', 'B', 'B', 'B', 'B', 'B', 'B', 'B', 'B', 'B', 'B', 'B', 'B', 'B', 'B', 'B', 'B', 'B', 'B', 'B', 'B', 'B', 'B', 'B', 'B', 'B', '<pad>']\n"
     ]
    }
   ],
   "source": [
    "for x, tag in trainset.get_loader(shuffle = True):\n",
    "    print(list(trainset.tags_vocab.rev_lookup(int(t)) for t in tag.squeeze(0)))\n",
    "    break\n",
    "    "
   ]
  },
  {
   "cell_type": "code",
   "execution_count": 5,
   "id": "d72190a7-8ca0-4718-8551-1f5428f9b177",
   "metadata": {},
   "outputs": [],
   "source": [
    "model = rnn_classifier.MweRNN(\n",
    "    name         = \"RNN\",\n",
    "    toks_vocab   = trainset.toks_vocab,\n",
    "    tags_vocab   = trainset.tags_vocab, \n",
    "    emb_size     = emb_size, \n",
    "    hidden_size  = hidden_size, \n",
    "    drop_out     = drop_out)"
   ]
  },
  {
   "cell_type": "code",
   "execution_count": 6,
   "id": "b35b8218-73ed-4520-8d3e-03819ec3b647",
   "metadata": {
    "scrolled": true
   },
   "outputs": [
    {
     "name": "stderr",
     "output_type": "stream",
     "text": [
      "100%|█████████████████████████████████████████| 581/581 [00:24<00:00, 23.65it/s]\n",
      "100%|████████████████████████████████████████| 146/146 [00:01<00:00, 124.18it/s]\n"
     ]
    },
    {
     "name": "stdout",
     "output_type": "stream",
     "text": [
      "Epoch 0 | Mean train loss  3.2321 |  Mean dev loss  0.9045 \n",
      "\n"
     ]
    },
    {
     "name": "stderr",
     "output_type": "stream",
     "text": [
      "100%|█████████████████████████████████████████| 581/581 [00:23<00:00, 24.45it/s]\n",
      "100%|████████████████████████████████████████| 146/146 [00:01<00:00, 123.29it/s]\n"
     ]
    },
    {
     "name": "stdout",
     "output_type": "stream",
     "text": [
      "Epoch 1 | Mean train loss  0.7118 |  Mean dev loss  0.7810 \n",
      "\n"
     ]
    },
    {
     "name": "stderr",
     "output_type": "stream",
     "text": [
      "100%|█████████████████████████████████████████| 581/581 [00:25<00:00, 22.98it/s]\n",
      "100%|█████████████████████████████████████████| 146/146 [00:01<00:00, 97.71it/s]\n"
     ]
    },
    {
     "name": "stdout",
     "output_type": "stream",
     "text": [
      "Epoch 2 | Mean train loss  0.6324 |  Mean dev loss  0.7325 \n",
      "\n"
     ]
    },
    {
     "name": "stderr",
     "output_type": "stream",
     "text": [
      "100%|█████████████████████████████████████████| 581/581 [00:25<00:00, 22.49it/s]\n",
      "100%|█████████████████████████████████████████| 146/146 [00:01<00:00, 97.33it/s]\n"
     ]
    },
    {
     "name": "stdout",
     "output_type": "stream",
     "text": [
      "Epoch 3 | Mean train loss  0.5968 |  Mean dev loss  0.6846 \n",
      "\n"
     ]
    },
    {
     "name": "stderr",
     "output_type": "stream",
     "text": [
      "100%|█████████████████████████████████████████| 581/581 [00:25<00:00, 22.42it/s]\n",
      "100%|█████████████████████████████████████████| 146/146 [00:01<00:00, 95.96it/s]\n"
     ]
    },
    {
     "name": "stdout",
     "output_type": "stream",
     "text": [
      "Epoch 4 | Mean train loss  0.5635 |  Mean dev loss  0.6643 \n",
      "\n"
     ]
    },
    {
     "name": "stderr",
     "output_type": "stream",
     "text": [
      "100%|█████████████████████████████████████████| 581/581 [00:27<00:00, 21.04it/s]\n",
      "100%|█████████████████████████████████████████| 146/146 [00:01<00:00, 95.65it/s]\n"
     ]
    },
    {
     "name": "stdout",
     "output_type": "stream",
     "text": [
      "Epoch 5 | Mean train loss  0.5342 |  Mean dev loss  0.6292 \n",
      "\n"
     ]
    },
    {
     "name": "stderr",
     "output_type": "stream",
     "text": [
      "100%|█████████████████████████████████████████| 581/581 [00:26<00:00, 22.27it/s]\n",
      "100%|████████████████████████████████████████| 146/146 [00:01<00:00, 105.39it/s]\n"
     ]
    },
    {
     "name": "stdout",
     "output_type": "stream",
     "text": [
      "Epoch 6 | Mean train loss  0.5072 |  Mean dev loss  0.6016 \n",
      "\n"
     ]
    },
    {
     "name": "stderr",
     "output_type": "stream",
     "text": [
      "100%|█████████████████████████████████████████| 581/581 [00:24<00:00, 23.90it/s]\n",
      "100%|████████████████████████████████████████| 146/146 [00:01<00:00, 107.09it/s]\n"
     ]
    },
    {
     "name": "stdout",
     "output_type": "stream",
     "text": [
      "Epoch 7 | Mean train loss  0.4674 |  Mean dev loss  0.5624 \n",
      "\n"
     ]
    },
    {
     "name": "stderr",
     "output_type": "stream",
     "text": [
      "100%|█████████████████████████████████████████| 581/581 [00:25<00:00, 22.55it/s]\n",
      "100%|█████████████████████████████████████████| 146/146 [00:02<00:00, 71.83it/s]\n"
     ]
    },
    {
     "name": "stdout",
     "output_type": "stream",
     "text": [
      "Epoch 8 | Mean train loss  0.4358 |  Mean dev loss  0.5270 \n",
      "\n"
     ]
    },
    {
     "name": "stderr",
     "output_type": "stream",
     "text": [
      "100%|█████████████████████████████████████████| 581/581 [00:34<00:00, 16.92it/s]\n",
      "100%|█████████████████████████████████████████| 146/146 [00:02<00:00, 71.25it/s]\n"
     ]
    },
    {
     "name": "stdout",
     "output_type": "stream",
     "text": [
      "Epoch 9 | Mean train loss  0.3993 |  Mean dev loss  0.4900 \n",
      "\n"
     ]
    },
    {
     "name": "stderr",
     "output_type": "stream",
     "text": [
      "100%|█████████████████████████████████████████| 581/581 [00:29<00:00, 19.54it/s]\n",
      "100%|█████████████████████████████████████████| 146/146 [00:01<00:00, 90.39it/s]\n"
     ]
    },
    {
     "name": "stdout",
     "output_type": "stream",
     "text": [
      "Epoch 10 | Mean train loss  0.3554 |  Mean dev loss  0.4681 \n",
      "\n"
     ]
    },
    {
     "name": "stderr",
     "output_type": "stream",
     "text": [
      "100%|█████████████████████████████████████████| 581/581 [00:29<00:00, 19.49it/s]\n",
      "100%|█████████████████████████████████████████| 146/146 [00:01<00:00, 86.56it/s]\n"
     ]
    },
    {
     "name": "stdout",
     "output_type": "stream",
     "text": [
      "Epoch 11 | Mean train loss  0.3137 |  Mean dev loss  0.4669 \n",
      "\n"
     ]
    },
    {
     "name": "stderr",
     "output_type": "stream",
     "text": [
      "100%|█████████████████████████████████████████| 581/581 [00:27<00:00, 20.78it/s]\n",
      "100%|█████████████████████████████████████████| 146/146 [00:01<00:00, 98.64it/s]\n"
     ]
    },
    {
     "name": "stdout",
     "output_type": "stream",
     "text": [
      "Epoch 12 | Mean train loss  0.2786 |  Mean dev loss  0.4349 \n",
      "\n"
     ]
    },
    {
     "name": "stderr",
     "output_type": "stream",
     "text": [
      "100%|█████████████████████████████████████████| 581/581 [00:26<00:00, 22.18it/s]\n",
      "100%|█████████████████████████████████████████| 146/146 [00:01<00:00, 91.90it/s]\n"
     ]
    },
    {
     "name": "stdout",
     "output_type": "stream",
     "text": [
      "Epoch 13 | Mean train loss  0.2470 |  Mean dev loss  0.4271 \n",
      "\n"
     ]
    },
    {
     "name": "stderr",
     "output_type": "stream",
     "text": [
      "100%|█████████████████████████████████████████| 581/581 [00:27<00:00, 21.27it/s]\n",
      "100%|█████████████████████████████████████████| 146/146 [00:01<00:00, 91.71it/s]\n"
     ]
    },
    {
     "name": "stdout",
     "output_type": "stream",
     "text": [
      "Epoch 14 | Mean train loss  0.2155 |  Mean dev loss  0.4409 \n",
      "\n"
     ]
    },
    {
     "name": "stderr",
     "output_type": "stream",
     "text": [
      "100%|█████████████████████████████████████████| 581/581 [00:26<00:00, 22.12it/s]\n",
      "100%|████████████████████████████████████████| 146/146 [00:01<00:00, 101.31it/s]\n"
     ]
    },
    {
     "name": "stdout",
     "output_type": "stream",
     "text": [
      "Epoch 15 | Mean train loss  0.1868 |  Mean dev loss  0.4785 \n",
      "\n"
     ]
    },
    {
     "name": "stderr",
     "output_type": "stream",
     "text": [
      "100%|█████████████████████████████████████████| 581/581 [00:26<00:00, 21.76it/s]\n",
      "100%|████████████████████████████████████████| 146/146 [00:01<00:00, 101.16it/s]\n"
     ]
    },
    {
     "name": "stdout",
     "output_type": "stream",
     "text": [
      "Epoch 16 | Mean train loss  0.1655 |  Mean dev loss  0.4420 \n",
      "\n"
     ]
    },
    {
     "name": "stderr",
     "output_type": "stream",
     "text": [
      "100%|█████████████████████████████████████████| 581/581 [00:25<00:00, 22.66it/s]\n",
      "100%|█████████████████████████████████████████| 146/146 [00:01<00:00, 96.48it/s]\n"
     ]
    },
    {
     "name": "stdout",
     "output_type": "stream",
     "text": [
      "Epoch 17 | Mean train loss  0.1369 |  Mean dev loss  0.4556 \n",
      "\n"
     ]
    },
    {
     "name": "stderr",
     "output_type": "stream",
     "text": [
      "100%|█████████████████████████████████████████| 581/581 [00:27<00:00, 21.14it/s]\n",
      " 95%|███████████████████████████████████████  | 139/146 [00:01<00:00, 93.41it/s]\n"
     ]
    },
    {
     "ename": "KeyboardInterrupt",
     "evalue": "",
     "output_type": "error",
     "traceback": [
      "\u001b[0;31m---------------------------------------------------------------------------\u001b[0m",
      "\u001b[0;31mKeyboardInterrupt\u001b[0m                         Traceback (most recent call last)",
      "Cell \u001b[0;32mIn[6], line 1\u001b[0m\n\u001b[0;32m----> 1\u001b[0m \u001b[43mmodel\u001b[49m\u001b[38;5;241;43m.\u001b[39;49m\u001b[43mtrain_model\u001b[49m\u001b[43m(\u001b[49m\u001b[43mtrainset\u001b[49m\u001b[43m,\u001b[49m\u001b[43mtestset\u001b[49m\u001b[43m,\u001b[49m\u001b[43m \u001b[49m\u001b[43mepochs\u001b[49m\u001b[38;5;241;43m=\u001b[39;49m\u001b[43m \u001b[49m\u001b[43mepochs\u001b[49m\u001b[43m,\u001b[49m\u001b[43m \u001b[49m\u001b[43mlr\u001b[49m\u001b[38;5;241;43m=\u001b[39;49m\u001b[43mlr\u001b[49m\u001b[43m,\u001b[49m\u001b[43m \u001b[49m\u001b[43mbatch_size\u001b[49m\u001b[43m \u001b[49m\u001b[38;5;241;43m=\u001b[39;49m\u001b[43m \u001b[49m\u001b[43mbatch_size\u001b[49m\u001b[43m,\u001b[49m\u001b[43m \u001b[49m\u001b[43msplit_train\u001b[49m\u001b[38;5;241;43m=\u001b[39;49m\u001b[38;5;241;43m0.8\u001b[39;49m\u001b[43m)\u001b[49m\n",
      "File \u001b[0;32m~/Projects/MWE/rnn_classifier.py:86\u001b[0m, in \u001b[0;36mMweRNN.train_model\u001b[0;34m(self, train_data, test_data, epochs, lr, batch_size, device, split_train)\u001b[0m\n\u001b[1;32m     84\u001b[0m loss \u001b[38;5;241m=\u001b[39m \u001b[38;5;28msum\u001b[39m(ep_loss) \u001b[38;5;241m/\u001b[39m \u001b[38;5;28mlen\u001b[39m(ep_loss)\n\u001b[1;32m     85\u001b[0m train_loss\u001b[38;5;241m.\u001b[39mappend(loss)\n\u001b[0;32m---> 86\u001b[0m valid_loss \u001b[38;5;241m=\u001b[39m \u001b[38;5;28;43mself\u001b[39;49m\u001b[38;5;241;43m.\u001b[39;49m\u001b[43mvalidate\u001b[49m\u001b[43m(\u001b[49m\u001b[43mdev_loader\u001b[49m\u001b[43m)\u001b[49m\n\u001b[1;32m     88\u001b[0m \u001b[38;5;66;03m# print(\"Epoch %d | Mean train loss  %.4f | Mean dev loss %.4f\"%(e,loss, devloss) )\u001b[39;00m\n\u001b[1;32m     89\u001b[0m \u001b[38;5;28mprint\u001b[39m(\u001b[38;5;124m\"\u001b[39m\u001b[38;5;124mEpoch \u001b[39m\u001b[38;5;132;01m%d\u001b[39;00m\u001b[38;5;124m | Mean train loss  \u001b[39m\u001b[38;5;132;01m%.4f\u001b[39;00m\u001b[38;5;124m |  Mean dev loss  \u001b[39m\u001b[38;5;132;01m%.4f\u001b[39;00m\u001b[38;5;124m \u001b[39m\u001b[38;5;124m\"\u001b[39m \u001b[38;5;241m%\u001b[39m (e, loss, valid_loss))\n",
      "File \u001b[0;32m~/Projects/MWE/rnn_classifier.py:105\u001b[0m, in \u001b[0;36mMweRNN.validate\u001b[0;34m(self, data_loader, device)\u001b[0m\n\u001b[1;32m    103\u001b[0m         logits, masks \u001b[38;5;241m=\u001b[39m \u001b[38;5;28mself\u001b[39m\u001b[38;5;241m.\u001b[39mforward(X_toks)\n\u001b[1;32m    104\u001b[0m         \u001b[38;5;66;03m#loss = loss_fnc(logprobs.view(bs*seq, -1), Y_gold.view(-1))\u001b[39;00m\n\u001b[0;32m--> 105\u001b[0m         loss \u001b[38;5;241m=\u001b[39m \u001b[38;5;28;43mself\u001b[39;49m\u001b[38;5;241;43m.\u001b[39;49m\u001b[43mcrf\u001b[49m\u001b[38;5;241;43m.\u001b[39;49m\u001b[43mloss\u001b[49m\u001b[43m(\u001b[49m\u001b[43mlogits\u001b[49m\u001b[43m \u001b[49m\u001b[43m,\u001b[49m\u001b[43m \u001b[49m\u001b[43mY_gold\u001b[49m\u001b[43m \u001b[49m\u001b[43m,\u001b[49m\u001b[43m \u001b[49m\u001b[43mmasks\u001b[49m\u001b[43m)\u001b[49m\n\u001b[1;32m    107\u001b[0m         loss_lst\u001b[38;5;241m.\u001b[39mappend(loss)\n\u001b[1;32m    108\u001b[0m \u001b[38;5;28;01mreturn\u001b[39;00m \u001b[38;5;28msum\u001b[39m(loss_lst) \u001b[38;5;241m/\u001b[39m \u001b[38;5;28mlen\u001b[39m(loss_lst)\n",
      "File \u001b[0;32m~/Projects/MWE/crf.py:66\u001b[0m, in \u001b[0;36mCRF.loss\u001b[0;34m(self, features, ys, masks)\u001b[0m\n\u001b[1;32m     63\u001b[0m L \u001b[38;5;241m=\u001b[39m features\u001b[38;5;241m.\u001b[39msize(\u001b[38;5;241m1\u001b[39m)\n\u001b[1;32m     64\u001b[0m masks_ \u001b[38;5;241m=\u001b[39m masks[:, :L]\u001b[38;5;241m.\u001b[39mfloat()\n\u001b[0;32m---> 66\u001b[0m forward_score \u001b[38;5;241m=\u001b[39m \u001b[38;5;28;43mself\u001b[39;49m\u001b[38;5;241;43m.\u001b[39;49m\u001b[43m__forward_algorithm\u001b[49m\u001b[43m(\u001b[49m\u001b[43mfeatures\u001b[49m\u001b[43m,\u001b[49m\u001b[43m \u001b[49m\u001b[43mmasks_\u001b[49m\u001b[43m)\u001b[49m\n\u001b[1;32m     67\u001b[0m gold_score \u001b[38;5;241m=\u001b[39m \u001b[38;5;28mself\u001b[39m\u001b[38;5;241m.\u001b[39m__score_sentence(features, ys[:, :L]\u001b[38;5;241m.\u001b[39mlong(), masks_)\n\u001b[1;32m     68\u001b[0m loss \u001b[38;5;241m=\u001b[39m (forward_score \u001b[38;5;241m-\u001b[39m gold_score)\u001b[38;5;241m.\u001b[39mmean()\n",
      "File \u001b[0;32m~/Projects/MWE/crf.py:160\u001b[0m, in \u001b[0;36mCRF.__forward_algorithm\u001b[0;34m(self, features, masks)\u001b[0m\n\u001b[1;32m    158\u001b[0m emit_score_t \u001b[38;5;241m=\u001b[39m features[:, t]\u001b[38;5;241m.\u001b[39munsqueeze(\u001b[38;5;241m2\u001b[39m)  \u001b[38;5;66;03m# [B, C, 1]\u001b[39;00m\n\u001b[1;32m    159\u001b[0m score_t \u001b[38;5;241m=\u001b[39m scores\u001b[38;5;241m.\u001b[39munsqueeze(\u001b[38;5;241m1\u001b[39m) \u001b[38;5;241m+\u001b[39m trans \u001b[38;5;241m+\u001b[39m emit_score_t  \u001b[38;5;66;03m# [B, 1, C] + [1, C, C] + [B, C, 1] => [B, C, C]\u001b[39;00m\n\u001b[0;32m--> 160\u001b[0m score_t \u001b[38;5;241m=\u001b[39m \u001b[43mlog_sum_exp\u001b[49m\u001b[43m(\u001b[49m\u001b[43mscore_t\u001b[49m\u001b[43m)\u001b[49m  \u001b[38;5;66;03m# [B, C]\u001b[39;00m\n\u001b[1;32m    162\u001b[0m mask_t \u001b[38;5;241m=\u001b[39m masks[:, t]\u001b[38;5;241m.\u001b[39munsqueeze(\u001b[38;5;241m1\u001b[39m)  \u001b[38;5;66;03m# [B, 1]\u001b[39;00m\n\u001b[1;32m    163\u001b[0m scores \u001b[38;5;241m=\u001b[39m score_t \u001b[38;5;241m*\u001b[39m mask_t \u001b[38;5;241m+\u001b[39m scores \u001b[38;5;241m*\u001b[39m (\u001b[38;5;241m1\u001b[39m \u001b[38;5;241m-\u001b[39m mask_t)\n",
      "File \u001b[0;32m~/Projects/MWE/crf.py:12\u001b[0m, in \u001b[0;36mlog_sum_exp\u001b[0;34m(x)\u001b[0m\n\u001b[1;32m      7\u001b[0m \u001b[38;5;250m\u001b[39m\u001b[38;5;124;03m\"\"\"\u001b[39;00m\n\u001b[1;32m      8\u001b[0m \u001b[38;5;124;03mCompute log sum exp in a numerically stable way for the forward algorithm\u001b[39;00m\n\u001b[1;32m      9\u001b[0m \u001b[38;5;124;03mcalculate log(sum(exp(x))) = max(x) + log(sum(exp(x - max(x))))\u001b[39;00m\n\u001b[1;32m     10\u001b[0m \u001b[38;5;124;03m\"\"\"\u001b[39;00m\n\u001b[1;32m     11\u001b[0m max_score \u001b[38;5;241m=\u001b[39m x\u001b[38;5;241m.\u001b[39mmax(\u001b[38;5;241m-\u001b[39m\u001b[38;5;241m1\u001b[39m)[\u001b[38;5;241m0\u001b[39m]\n\u001b[0;32m---> 12\u001b[0m \u001b[38;5;28;01mreturn\u001b[39;00m max_score \u001b[38;5;241m+\u001b[39m \u001b[43m(\u001b[49m\u001b[43mx\u001b[49m\u001b[43m \u001b[49m\u001b[38;5;241;43m-\u001b[39;49m\u001b[43m \u001b[49m\u001b[43mmax_score\u001b[49m\u001b[38;5;241;43m.\u001b[39;49m\u001b[43munsqueeze\u001b[49m\u001b[43m(\u001b[49m\u001b[38;5;241;43m-\u001b[39;49m\u001b[38;5;241;43m1\u001b[39;49m\u001b[43m)\u001b[49m\u001b[43m)\u001b[49m\u001b[38;5;241;43m.\u001b[39;49m\u001b[43mexp\u001b[49m\u001b[43m(\u001b[49m\u001b[43m)\u001b[49m\u001b[38;5;241;43m.\u001b[39;49m\u001b[43msum\u001b[49m\u001b[43m(\u001b[49m\u001b[38;5;241;43m-\u001b[39;49m\u001b[38;5;241;43m1\u001b[39;49m\u001b[43m)\u001b[49m\u001b[38;5;241m.\u001b[39mlog()\n",
      "\u001b[0;31mKeyboardInterrupt\u001b[0m: "
     ]
    }
   ],
   "source": [
    "model.train_model(trainset,testset, epochs= epochs, lr=lr, batch_size = batch_size, split_train=0.8)"
   ]
  },
  {
   "cell_type": "code",
   "execution_count": 3,
   "id": "b86d01bf-bd1b-4c5d-86d7-79d8027be2f8",
   "metadata": {},
   "outputs": [
    {
     "data": {
      "image/png": "[encoded data removed]",
      "text/plain": [
       "<Figure size 640x480 with 1 Axes>"
      ]
     },
     "metadata": {},
     "output_type": "display_data"
    }
   ],
   "source": [
    "train_losses = [29.3152, 14.0053, 10.4767, 8.4147, 7.0056, 5.9513, 5.1115, 4.4160, 3.8356, 3.3329, 2.9125, 2.5532, 2.2376, 1.9778, 1.7487]\n",
    "dev_losses = [16.9078, 12.3065, 10.0737, 8.7474, 7.8867, 7.2984, 6.8999, 6.5963, 6.3799, 6.2297, 6.1948, 6.1680, 6.1652, 6.2417, 6.3141]\n",
    "\n",
    "epochs = range(len(train_losses))\n",
    "\n",
    "plt.plot(epochs, train_losses, label='Train Loss')\n",
    "plt.plot(epochs, dev_losses, label='Dev Loss')\n",
    "plt.xlabel('Epochs')\n",
    "plt.ylabel('Loss')\n",
    "plt.title('Training and Validation Loss on vanilla RNN')\n",
    "plt.legend()\n",
    "plt.show()\n"
   ]
  },
  {
   "cell_type": "code",
   "execution_count": 16,
   "id": "5c45a8ce-d15a-4918-9b85-932bbbf86829",
   "metadata": {},
   "outputs": [],
   "source": [
    "model.save(\".\",\"rnn_mod_bi.pth\")"
   ]
  },
  {
   "cell_type": "code",
   "execution_count": 7,
   "id": "5d96f9d9-df98-4429-8b34-f4e02e45ff3c",
   "metadata": {},
   "outputs": [
    {
     "name": "stderr",
     "output_type": "stream",
     "text": [
      "100%|█████████████████████████████████████████████| 4/4 [00:03<00:00,  1.03it/s]\n"
     ]
    }
   ],
   "source": [
    "TP, FP, FN, average_precision, average_recall, average_f1_score, weighted_f1_score, weighted_recall, weighted_precision = model.evaluate(testset.get_loader(batch_size = 500))"
   ]
  },
  {
   "cell_type": "code",
   "execution_count": 15,
   "id": "3fcc1471-134a-4434-a76d-5f2d43f7c714",
   "metadata": {},
   "outputs": [
    {
     "name": "stdout",
     "output_type": "stream",
     "text": [
      "tensor(0.9874)\n",
      "tensor(0.9990)\n",
      "tensor(0.9990)\n"
     ]
    }
   ],
   "source": [
    "print(weighted_f1_score)\n",
    "print(weighted_recall)\n",
    "print(weighted_recall)"
   ]
  },
  {
   "cell_type": "markdown",
   "id": "abed597a-9a0f-4f22-9261-075ed0d3a64e",
   "metadata": {},
   "source": [
    "# Attention Layer + RNN + CRF decoder"
   ]
  },
  {
   "cell_type": "code",
   "execution_count": 2,
   "id": "97760fe1-beff-453c-a48b-0e4d7eb9c0cc",
   "metadata": {},
   "outputs": [],
   "source": [
    "#define the hyperparameters\n",
    "batch_size    = 16\n",
    "lr            = 1e-3\n",
    "device        = \"cpu\"\n",
    "epochs        = 30\n",
    "emb_size      = 64\n",
    "hidden_size   = 64\n",
    "drop_out      = 0.1"
   ]
  },
  {
   "cell_type": "code",
   "execution_count": 3,
   "id": "17bba45b-a705-4366-91d8-84f61e557168",
   "metadata": {},
   "outputs": [
    {
     "name": "stdout",
     "output_type": "stream",
     "text": [
      "token Vocab size 35693\n",
      "token Vocab size 35693\n"
     ]
    }
   ],
   "source": [
    "trainset     = rnn_dataset.RnnDataset(\"corpus/train.conllu\",  isTrain = True)\n",
    "testset      = rnn_dataset.RnnDataset(\"corpus/test.conllu\")"
   ]
  },
  {
   "cell_type": "code",
   "execution_count": 4,
   "id": "6e68756f-3f34-4640-8f6a-f2f835d753d6",
   "metadata": {},
   "outputs": [],
   "source": [
    "model = rnn_classifier.MweRNN(\n",
    "    name         = \"ATRNN\",\n",
    "    toks_vocab   = trainset.toks_vocab,\n",
    "    tags_vocab   = trainset.tags_vocab, \n",
    "    emb_size     = emb_size, \n",
    "    hidden_size  = hidden_size, \n",
    "    drop_out     = drop_out)"
   ]
  },
  {
   "cell_type": "code",
   "execution_count": null,
   "id": "4d9defe0-61ca-4a73-9daf-5998a1a66920",
   "metadata": {},
   "outputs": [],
   "source": [
    "model.train_model(trainset,testset, epochs= epochs, lr=lr, batch_size = batch_size, split_train=0.8)"
   ]
  },
  {
   "cell_type": "code",
   "execution_count": 10,
   "id": "e5b8a6fb-a411-48f7-94b8-146769514152",
   "metadata": {},
   "outputs": [],
   "source": [
    "model.save(\".\", \"attrnn_mod.pth\")"
   ]
  },
  {
   "cell_type": "code",
   "execution_count": 6,
   "id": "ba18ef9b-5b08-46fb-a547-5805673c56a4",
   "metadata": {},
   "outputs": [
    {
     "name": "stderr",
     "output_type": "stream",
     "text": [
      "100%|█████████████████████████████████████████████| 4/4 [00:04<00:00,  1.05s/it]\n"
     ]
    }
   ],
   "source": [
    "TP, FP, FN, average_precision, average_recall, average_f1_score, weighted_f1_score, weighted_recall, weighted_precision = model.evaluate(testset.get_loader(batch_size=500))"
   ]
  },
  {
   "cell_type": "code",
   "execution_count": 7,
   "id": "740349b0-be69-4a2c-9439-8ee80fc6f0d8",
   "metadata": {},
   "outputs": [
    {
     "data": {
      "text/plain": [
       "tensor(0.9051)"
      ]
     },
     "execution_count": 7,
     "metadata": {},
     "output_type": "execute_result"
    }
   ],
   "source": [
    "weighted_f1_score"
   ]
  },
  {
   "cell_type": "code",
   "execution_count": 8,
   "id": "e1b43f07-5ac7-4d39-91f7-e61222ecab76",
   "metadata": {},
   "outputs": [
    {
     "data": {
      "text/plain": [
       "tensor(0.9186)"
      ]
     },
     "execution_count": 8,
     "metadata": {},
     "output_type": "execute_result"
    }
   ],
   "source": [
    "weighted_recall"
   ]
  },
  {
   "cell_type": "code",
   "execution_count": 9,
   "id": "f77f419b-e018-4618-b3c7-3b56e68c5bee",
   "metadata": {},
   "outputs": [
    {
     "data": {
      "text/plain": [
       "tensor(0.8932)"
      ]
     },
     "execution_count": 9,
     "metadata": {},
     "output_type": "execute_result"
    }
   ],
   "source": [
    "weighted_precision"
   ]
  },
  {
   "cell_type": "code",
   "execution_count": 4,
   "id": "88695dd7-1edb-43a9-bc60-20ec240cb370",
   "metadata": {},
   "outputs": [
    {
     "data": {
      "image/png": "[encoded data removed]",
      "text/plain": [
       "<Figure size 640x480 with 1 Axes>"
      ]
     },
     "metadata": {},
     "output_type": "display_data"
    }
   ],
   "source": [
    "import matplotlib.pyplot as plt\n",
    "\n",
    "train_losses = [24.8248, 12.8190, 9.5968, 7.6910, 6.3614, 5.3300, 4.4785, 3.7851, 3.1855, 2.6840, 2.2593, 1.9200, 1.6183, 1.3671, 1.1714, 1.0163, 0.8760, 0.7280]\n",
    "dev_losses = [15.3704, 11.3691, 9.4127, 8.3325, 7.7818, 7.2882, 7.0712, 6.8513, 6.9470, 7.1188, 7.3503, 7.4608, 7.8713, 8.2566, 8.8591, 9.3926, 9.5438, 10.1247]\n",
    "\n",
    "epochs = range(len(train_losses))\n",
    "\n",
    "plt.plot(epochs, train_losses, label='Train Loss')\n",
    "plt.plot(epochs, dev_losses, label='Dev Loss')\n",
    "plt.xlabel('Epochs')\n",
    "plt.ylabel('Loss')\n",
    "plt.title('Training and Validation Loss on attention RNN')\n",
    "plt.legend()\n",
    "plt.show()\n"
   ]
  },
  {
   "cell_type": "code",
   "execution_count": 39,
   "id": "3b48b937-0e7f-43ae-af16-2394d7643e60",
   "metadata": {},
   "outputs": [
    {
     "name": "stdout",
     "output_type": "stream",
     "text": [
      "tensor(0.8878)\n",
      "tensor(0.9098)\n",
      "tensor(0.9098)\n"
     ]
    }
   ],
   "source": [
    "print(sum(weighted_f1_score))\n",
    "print(sum(weighted_recall))\n",
    "print(sum(weighted_recall))"
   ]
  },
  {
   "cell_type": "markdown",
   "id": "7f4612ce-fea8-42f9-8ceb-5cae5c144ad2",
   "metadata": {},
   "source": [
    "# LSTM layer - CRF"
   ]
  },
  {
   "cell_type": "code",
   "execution_count": 45,
   "id": "41f4f04d-ae51-4b2a-83db-21fd3a3daae2",
   "metadata": {},
   "outputs": [],
   "source": [
    "model = rnn_classifier.MweRNN(\n",
    "    name         = \"LSTM\",\n",
    "    toks_vocab   = trainset.toks_vocab,\n",
    "    tags_vocab   = trainset.tags_vocab, \n",
    "    emb_size     = emb_size, \n",
    "    hidden_size  = hidden_size, \n",
    "    drop_out     = 0.)"
   ]
  },
  {
   "cell_type": "code",
   "execution_count": null,
   "id": "360a7521-c2bb-489a-9adf-4fb6b9dbb33a",
   "metadata": {},
   "outputs": [],
   "source": [
    "model.train_model(trainset,testset, epochs= epochs, lr=lr, batch_size = batch_size, split_train=0.8)"
   ]
  },
  {
   "cell_type": "code",
   "execution_count": 5,
   "id": "87d8c504-093e-46ee-91b8-77cfb6f42b1b",
   "metadata": {},
   "outputs": [
    {
     "data": {
      "image/png": "[encoded data removed]",
      "text/plain": [
       "<Figure size 640x480 with 1 Axes>"
      ]
     },
     "metadata": {},
     "output_type": "display_data"
    }
   ],
   "source": [
    "import matplotlib.pyplot as plt\n",
    "\n",
    "train_loss = [34.0949, 14.5625, 10.6750, 8.4482, 6.9609, 5.8769, 5.0125, 4.3107, 3.7250, 3.2354, 2.8118, 2.4530, 2.1458, 1.8816, 1.6509, 1.4537, 1.2724, 1.1190]\n",
    "dev_loss = [17.7306, 12.3647, 9.8812, 8.4105, 7.5054, 6.8801, 6.4344, 6.1387, 5.8906, 5.7404, 5.6429, 5.5663, 5.5674, 5.6112, 5.6222, 5.7055, 5.8125, 5.8855]\n",
    "\n",
    "epochs = range(1, len(train_loss) + 1)\n",
    "\n",
    "plt.plot(epochs, train_loss, 'b', label='Training loss')\n",
    "plt.plot(epochs, dev_loss, 'r', label='Development loss')\n",
    "plt.title('Training and Development Loss - bi_LSTM-CRF')\n",
    "plt.xlabel('Epochs')\n",
    "plt.ylabel('Loss')\n",
    "plt.legend()\n",
    "plt.show()\n"
   ]
  },
  {
   "cell_type": "code",
   "execution_count": 56,
   "id": "8e50a7e4-c56f-413a-9e80-5f1609edfcc1",
   "metadata": {},
   "outputs": [
    {
     "name": "stderr",
     "output_type": "stream",
     "text": [
      "100%|█████████████████████████████████████████████| 4/4 [00:04<00:00,  1.09s/it]\n"
     ]
    }
   ],
   "source": [
    "TP, FP, FN, average_precision, average_recall, average_f1_score, weighted_f1_score, weighted_recall, weighted_precision = model.evaluate(testset.get_loader(batch_size=500))"
   ]
  },
  {
   "cell_type": "code",
   "execution_count": 59,
   "id": "49a52230-5927-4554-a65a-32367d2a2e8e",
   "metadata": {},
   "outputs": [
    {
     "name": "stdout",
     "output_type": "stream",
     "text": [
      "tensor(0.9051)\n",
      "tensor(0.9198)\n",
      "tensor(0.8952)\n"
     ]
    }
   ],
   "source": [
    "print(weighted_f1_score)\n",
    "print(weighted_recall)\n",
    "print(weighted_precision)"
   ]
  },
  {
   "cell_type": "code",
   "execution_count": 62,
   "id": "b778ee0f-9f25-4213-94d9-2ae26721e8d6",
   "metadata": {},
   "outputs": [],
   "source": [
    "model.save(\".\", \"lstm_crf_mod.pth\")"
   ]
  },
  {
   "cell_type": "code",
   "execution_count": null,
   "id": "893daba4-d092-4da2-ba2d-a3c427d04950",
   "metadata": {},
   "outputs": [],
   "source": []
  },
  {
   "cell_type": "code",
   "execution_count": null,
   "id": "1e47246b-3c53-4fc0-8142-35cd3758b1e9",
   "metadata": {},
   "outputs": [],
   "source": []
  }
 ],
 "metadata": {
  "kernelspec": {
   "display_name": "Python 3 (ipykernel)",
   "language": "python",
   "name": "python3"
  },
  "language_info": {
   "codemirror_mode": {
    "name": "ipython",
    "version": 3
   },
   "file_extension": ".py",
   "mimetype": "text/x-python",
   "name": "python",
   "nbconvert_exporter": "python",
   "pygments_lexer": "ipython3",
   "version": "3.10.6"
  }
 },
 "nbformat": 4,
 "nbformat_minor": 5
}
