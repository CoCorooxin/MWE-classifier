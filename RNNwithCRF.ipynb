{
 "cells": [
  {
   "cell_type": "markdown",
   "id": "4754b7be-8a95-4e0f-a178-f2099058c193",
   "metadata": {},
   "source": [
    "# RNN Model with crf"
   ]
  },
  {
   "cell_type": "code",
   "execution_count": 1,
   "id": "2e6733bd-6ba1-414e-93c0-742749f4a6cf",
   "metadata": {},
   "outputs": [],
   "source": [
    "import rnn_dataset\n",
    "import rnn_classifier\n",
    "from crf import CRF\n",
    "import torch\n",
    "from torch.utils.data import Dataset, DataLoader, random_split\n",
    "from collections import Counter\n",
    "import itertools\n",
    "import torch.nn as nn\n",
    "from tqdm import tqdm\n",
    "import numpy as np\n",
    "import seaborn as sns\n",
    "import matplotlib.pyplot as plt\n",
    "import os\n"
   ]
  },
  {
   "cell_type": "code",
   "execution_count": 2,
   "id": "587cf793-09d8-49d1-855a-38c968edf240",
   "metadata": {},
   "outputs": [],
   "source": [
    "#define the hyperparameters\n",
    "batch_size    = 16\n",
    "window_size   =  6#left context and right context\n",
    "lr            = 1e-4\n",
    "device        = \"cpu\"\n",
    "epochs        = 20\n",
    "emb_size      = 64\n",
    "hidden_size   = 64\n",
    "nb_layers     = 2\n",
    "drop_out      = 0.1"
   ]
  },
  {
   "cell_type": "code",
   "execution_count": 3,
   "id": "be7e3803-b1fa-4826-b987-765fd3e322df",
   "metadata": {},
   "outputs": [
    {
     "name": "stdout",
     "output_type": "stream",
     "text": [
      "token Vocab size 35695\n",
      "token Vocab size 35695\n",
      "45\n"
     ]
    }
   ],
   "source": [
    "trainset     = rnn_dataset.MWEDataset(\"corpus/train.conllu\",  isTrain = True)\n",
    "testset      = rnn_dataset.MWEDataset(\"corpus/test.conllu\")\n",
    "print(len(trainset.tags_vocab))"
   ]
  },
  {
   "cell_type": "code",
   "execution_count": 4,
   "id": "d72190a7-8ca0-4718-8551-1f5428f9b177",
   "metadata": {},
   "outputs": [],
   "source": [
    "model = rnn_classifier.MweRNN(\n",
    "    name         = \"rnn\",\n",
    "    toks_vocab   = trainset.toks_vocab,\n",
    "    tags_vocab   = trainset.tags_vocab, \n",
    "    deprel_vocab = trainset.deprel_vocab,\n",
    "    emb_size     = emb_size, \n",
    "    hidden_size  = hidden_size, \n",
    "    drop_out     = 0.)"
   ]
  },
  {
   "cell_type": "code",
   "execution_count": null,
   "id": "b35b8218-73ed-4520-8d3e-03819ec3b647",
   "metadata": {},
   "outputs": [
    {
     "name": "stderr",
     "output_type": "stream",
     "text": [
      "100%|█████████████████████████████████████████| 581/581 [00:32<00:00, 17.91it/s]\n",
      "100%|█████████████████████████████████████████| 146/146 [00:02<00:00, 64.47it/s]\n"
     ]
    },
    {
     "name": "stdout",
     "output_type": "stream",
     "text": [
      "Epoch 0 | Mean train loss  93.2690 |  Mean dev loss  71.5707 \n",
      "\n"
     ]
    },
    {
     "name": "stderr",
     "output_type": "stream",
     "text": [
      "100%|█████████████████████████████████████████| 581/581 [00:35<00:00, 16.51it/s]\n",
      "100%|█████████████████████████████████████████| 146/146 [00:02<00:00, 59.87it/s]\n"
     ]
    },
    {
     "name": "stdout",
     "output_type": "stream",
     "text": [
      "Epoch 1 | Mean train loss  65.0830 |  Mean dev loss  59.1869 \n",
      "\n"
     ]
    },
    {
     "name": "stderr",
     "output_type": "stream",
     "text": [
      "100%|█████████████████████████████████████████| 581/581 [00:31<00:00, 18.42it/s]\n",
      "100%|█████████████████████████████████████████| 146/146 [00:02<00:00, 56.36it/s]\n"
     ]
    },
    {
     "name": "stdout",
     "output_type": "stream",
     "text": [
      "Epoch 2 | Mean train loss  54.6375 |  Mean dev loss  53.0909 \n",
      "\n"
     ]
    },
    {
     "name": "stderr",
     "output_type": "stream",
     "text": [
      "100%|█████████████████████████████████████████| 581/581 [00:32<00:00, 17.84it/s]\n",
      "100%|█████████████████████████████████████████| 146/146 [00:02<00:00, 58.56it/s]\n"
     ]
    },
    {
     "name": "stdout",
     "output_type": "stream",
     "text": [
      "Epoch 3 | Mean train loss  48.2265 |  Mean dev loss  46.3308 \n",
      "\n"
     ]
    },
    {
     "name": "stderr",
     "output_type": "stream",
     "text": [
      "100%|█████████████████████████████████████████| 581/581 [00:32<00:00, 17.90it/s]\n",
      "100%|█████████████████████████████████████████| 146/146 [00:02<00:00, 63.26it/s]\n"
     ]
    },
    {
     "name": "stdout",
     "output_type": "stream",
     "text": [
      "Epoch 4 | Mean train loss  43.5637 |  Mean dev loss  40.5791 \n",
      "\n"
     ]
    },
    {
     "name": "stderr",
     "output_type": "stream",
     "text": [
      "100%|█████████████████████████████████████████| 581/581 [00:32<00:00, 17.97it/s]\n",
      "100%|█████████████████████████████████████████| 146/146 [00:02<00:00, 58.81it/s]\n"
     ]
    },
    {
     "name": "stdout",
     "output_type": "stream",
     "text": [
      "Epoch 5 | Mean train loss  39.4694 |  Mean dev loss  38.5385 \n",
      "\n"
     ]
    },
    {
     "name": "stderr",
     "output_type": "stream",
     "text": [
      "100%|█████████████████████████████████████████| 581/581 [00:32<00:00, 18.00it/s]\n",
      "100%|█████████████████████████████████████████| 146/146 [00:02<00:00, 60.42it/s]\n"
     ]
    },
    {
     "name": "stdout",
     "output_type": "stream",
     "text": [
      "Epoch 6 | Mean train loss  36.6691 |  Mean dev loss  35.7546 \n",
      "\n"
     ]
    },
    {
     "name": "stderr",
     "output_type": "stream",
     "text": [
      "100%|█████████████████████████████████████████| 581/581 [00:32<00:00, 18.10it/s]\n",
      "100%|█████████████████████████████████████████| 146/146 [00:02<00:00, 58.02it/s]\n"
     ]
    },
    {
     "name": "stdout",
     "output_type": "stream",
     "text": [
      "Epoch 7 | Mean train loss  34.6025 |  Mean dev loss  33.0917 \n",
      "\n"
     ]
    },
    {
     "name": "stderr",
     "output_type": "stream",
     "text": [
      "100%|█████████████████████████████████████████| 581/581 [00:32<00:00, 18.03it/s]\n",
      "100%|█████████████████████████████████████████| 146/146 [00:02<00:00, 59.84it/s]\n"
     ]
    },
    {
     "name": "stdout",
     "output_type": "stream",
     "text": [
      "Epoch 8 | Mean train loss  32.5434 |  Mean dev loss  32.2382 \n",
      "\n"
     ]
    },
    {
     "name": "stderr",
     "output_type": "stream",
     "text": [
      "100%|█████████████████████████████████████████| 581/581 [00:32<00:00, 18.03it/s]\n",
      "100%|█████████████████████████████████████████| 146/146 [00:02<00:00, 59.74it/s]\n"
     ]
    },
    {
     "name": "stdout",
     "output_type": "stream",
     "text": [
      "Epoch 9 | Mean train loss  30.8839 |  Mean dev loss  31.2284 \n",
      "\n"
     ]
    },
    {
     "name": "stderr",
     "output_type": "stream",
     "text": [
      " 30%|████████████▎                            | 174/581 [00:09<00:21, 18.99it/s]"
     ]
    }
   ],
   "source": [
    "model.train_model(trainset,testset, epochs= epochs, lr=lr, batch_size = batch_size, split_train=0.8)"
   ]
  },
  {
   "cell_type": "code",
   "execution_count": null,
   "id": "5d96f9d9-df98-4429-8b34-f4e02e45ff3c",
   "metadata": {},
   "outputs": [],
   "source": []
  },
  {
   "cell_type": "code",
   "execution_count": null,
   "id": "fddbc663-6723-4c17-8fd8-b3e4c14e8f10",
   "metadata": {},
   "outputs": [],
   "source": []
  }
 ],
 "metadata": {
  "kernelspec": {
   "display_name": "Python 3 (ipykernel)",
   "language": "python",
   "name": "python3"
  },
  "language_info": {
   "codemirror_mode": {
    "name": "ipython",
    "version": 3
   },
   "file_extension": ".py",
   "mimetype": "text/x-python",
   "name": "python",
   "nbconvert_exporter": "python",
   "pygments_lexer": "ipython3",
   "version": "3.10.6"
  }
 },
 "nbformat": 4,
 "nbformat_minor": 5
}
