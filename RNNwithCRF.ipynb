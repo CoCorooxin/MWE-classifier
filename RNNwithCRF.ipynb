{
 "cells": [
  {
   "cell_type": "markdown",
   "id": "4754b7be-8a95-4e0f-a178-f2099058c193",
   "metadata": {},
   "source": [
    "# RNN Model with crf"
   ]
  },
  {
   "cell_type": "code",
   "execution_count": 1,
   "id": "2e6733bd-6ba1-414e-93c0-742749f4a6cf",
   "metadata": {},
   "outputs": [],
   "source": [
    "import rnn_dataset\n",
    "import rnn_classifier\n",
    "from crf import CRF\n",
    "import torch\n",
    "from data_utils import Vocabulary\n",
    "from torch.utils.data import Dataset, DataLoader, random_split\n",
    "from collections import Counter\n",
    "import itertools\n",
    "import torch.nn as nn\n",
    "from tqdm import tqdm\n",
    "import numpy as np\n",
    "import seaborn as sns\n",
    "import matplotlib.pyplot as plt\n",
    "import os\n",
    "from torch.nn.utils.rnn import pad_sequence\n",
    "import pyconll\n"
   ]
  },
  {
   "cell_type": "code",
   "execution_count": 2,
   "id": "587cf793-09d8-49d1-855a-38c968edf240",
   "metadata": {},
   "outputs": [],
   "source": [
    "#define the hyperparameters\n",
    "batch_size    = 16\n",
    "lr            = 1e-2\n",
    "device        = \"cpu\"\n",
    "epochs        = 20\n",
    "emb_size      = 64\n",
    "hidden_size   = 64\n",
    "nb_layers     = 2\n",
    "drop_out      = 0.1"
   ]
  },
  {
   "cell_type": "code",
   "execution_count": 3,
   "id": "be7e3803-b1fa-4826-b987-765fd3e322df",
   "metadata": {
    "scrolled": true
   },
   "outputs": [
    {
     "name": "stdout",
     "output_type": "stream",
     "text": [
      "token Vocab size 35693\n",
      "token Vocab size 35693\n"
     ]
    }
   ],
   "source": [
    "trainset     = rnn_dataset.MweRnnDataset(\"corpus/train.conllu\",  isTrain = True)\n",
    "testset      = rnn_dataset.MweRnnDataset(\"corpus/test.conllu\")\n"
   ]
  },
  {
   "cell_type": "code",
   "execution_count": 4,
   "id": "006e698f-db8b-4226-839c-0836e83f6f99",
   "metadata": {},
   "outputs": [
    {
     "name": "stdout",
     "output_type": "stream",
     "text": [
      "['B_V', 'B_P', 'B_N', 'B_P', 'B_V', 'B_D', 'B_N', 'B_A', 'B_PONCT', 'B_D', 'B_N', 'B_C', 'B_CL', 'B_V', 'B_V', 'B_ADV', 'B_V', 'B__', 'B_P', 'B_D', 'B_N', 'B_PONCT', '<pad>']\n"
     ]
    }
   ],
   "source": [
    "for x, tag in trainset.get_loader(shuffle = True):\n",
    "    print(list(trainset.tags_vocab.rev_lookup(int(t)) for t in tag.squeeze(0)))\n",
    "    break\n",
    "    "
   ]
  },
  {
   "cell_type": "code",
   "execution_count": 5,
   "id": "d72190a7-8ca0-4718-8551-1f5428f9b177",
   "metadata": {},
   "outputs": [],
   "source": [
    "model = rnn_classifier.MweRNN(\n",
    "    name         = \"RNN\",\n",
    "    toks_vocab   = trainset.toks_vocab,\n",
    "    tags_vocab   = trainset.tags_vocab, \n",
    "    emb_size     = emb_size, \n",
    "    hidden_size  = hidden_size, \n",
    "    drop_out     = drop_out)"
   ]
  },
  {
   "cell_type": "code",
   "execution_count": null,
   "id": "b35b8218-73ed-4520-8d3e-03819ec3b647",
   "metadata": {},
   "outputs": [
    {
     "name": "stderr",
     "output_type": "stream",
     "text": [
      "100%|█████████████████████████████████████████| 581/581 [00:28<00:00, 20.22it/s]\n",
      "100%|█████████████████████████████████████████| 146/146 [00:01<00:00, 77.71it/s]\n"
     ]
    },
    {
     "name": "stdout",
     "output_type": "stream",
     "text": [
      "Epoch 0 | Mean train loss  12.2721 |  Mean dev loss  6.5046 \n",
      "\n"
     ]
    },
    {
     "name": "stderr",
     "output_type": "stream",
     "text": [
      "100%|█████████████████████████████████████████| 581/581 [00:29<00:00, 20.03it/s]\n",
      "100%|█████████████████████████████████████████| 146/146 [00:02<00:00, 71.39it/s]\n"
     ]
    },
    {
     "name": "stdout",
     "output_type": "stream",
     "text": [
      "Epoch 1 | Mean train loss  4.1072 |  Mean dev loss  5.3728 \n",
      "\n"
     ]
    },
    {
     "name": "stderr",
     "output_type": "stream",
     "text": [
      "100%|█████████████████████████████████████████| 581/581 [00:27<00:00, 21.24it/s]\n",
      "100%|█████████████████████████████████████████| 146/146 [00:01<00:00, 77.06it/s]\n"
     ]
    },
    {
     "name": "stdout",
     "output_type": "stream",
     "text": [
      "Epoch 2 | Mean train loss  2.2919 |  Mean dev loss  5.2992 \n",
      "\n"
     ]
    },
    {
     "name": "stderr",
     "output_type": "stream",
     "text": [
      "100%|█████████████████████████████████████████| 581/581 [00:30<00:00, 18.82it/s]\n",
      "100%|█████████████████████████████████████████| 146/146 [00:02<00:00, 69.19it/s]\n"
     ]
    },
    {
     "name": "stdout",
     "output_type": "stream",
     "text": [
      "Epoch 3 | Mean train loss  1.6149 |  Mean dev loss  5.4731 \n",
      "\n"
     ]
    },
    {
     "name": "stderr",
     "output_type": "stream",
     "text": [
      "100%|█████████████████████████████████████████| 581/581 [00:32<00:00, 18.15it/s]\n",
      "100%|█████████████████████████████████████████| 146/146 [00:02<00:00, 56.30it/s]\n"
     ]
    },
    {
     "name": "stdout",
     "output_type": "stream",
     "text": [
      "Epoch 4 | Mean train loss  1.2643 |  Mean dev loss  5.6245 \n",
      "\n"
     ]
    },
    {
     "name": "stderr",
     "output_type": "stream",
     "text": [
      "100%|█████████████████████████████████████████| 581/581 [00:30<00:00, 18.76it/s]\n",
      "100%|█████████████████████████████████████████| 146/146 [00:02<00:00, 71.70it/s]\n"
     ]
    },
    {
     "name": "stdout",
     "output_type": "stream",
     "text": [
      "Epoch 5 | Mean train loss  1.0487 |  Mean dev loss  5.8031 \n",
      "\n"
     ]
    },
    {
     "name": "stderr",
     "output_type": "stream",
     "text": [
      "100%|█████████████████████████████████████████| 581/581 [00:31<00:00, 18.31it/s]\n",
      "100%|█████████████████████████████████████████| 146/146 [00:02<00:00, 50.35it/s]\n"
     ]
    },
    {
     "name": "stdout",
     "output_type": "stream",
     "text": [
      "Epoch 6 | Mean train loss  0.8808 |  Mean dev loss  6.0774 \n",
      "\n"
     ]
    },
    {
     "name": "stderr",
     "output_type": "stream",
     "text": [
      "  8%|███▍                                      | 47/581 [00:02<00:30, 17.35it/s]"
     ]
    }
   ],
   "source": [
    "model.train_model(trainset,testset, epochs= epochs, lr=lr, batch_size = batch_size, split_train=0.8)"
   ]
  },
  {
   "cell_type": "code",
   "execution_count": null,
   "id": "5d96f9d9-df98-4429-8b34-f4e02e45ff3c",
   "metadata": {},
   "outputs": [],
   "source": [
    "TP, FP, FN, average_precision, average_recall, average_f1_score, weighted_f1_score, weighted_recall, weighted_precision = model.evaluate()"
   ]
  },
  {
   "cell_type": "code",
   "execution_count": 64,
   "id": "fddbc663-6723-4c17-8fd8-b3e4c14e8f10",
   "metadata": {},
   "outputs": [
    {
     "name": "stderr",
     "output_type": "stream",
     "text": [
      "100%|█████████████████████████████████████████████| 4/4 [00:04<00:00,  1.14s/it]\n"
     ]
    }
   ],
   "source": [
    "num_tags = len(model.tags_vocab)\n",
    "# print(num_tags)\n",
    "TP = torch.zeros(num_tags)\n",
    "FP = torch.zeros(num_tags)\n",
    "FN = torch.zeros(num_tags)\n",
    "class_counts = torch.zeros(num_tags)\n",
    "with torch.no_grad():\n",
    "            \n",
    "    for X_toks, Y_golds in tqdm(testset.get_loader(batch_size = 500)):\n",
    "    # Forward pass\n",
    "        logprobs, masks = model.forward(X_toks)\n",
    "        best_score, best_paths = model.crf(logprobs, masks) #viterbi\n",
    "        #best_paths = pad_sequence(best_paths, padding_value= testset.tags_vocab[\"<pad>\"]).T\n",
    "        #print(best_paths.shape)\n",
    "        # Mask out the padding positions\n",
    "        \n",
    "        for i in range(len(best_paths)):\n",
    "            str = list(model.tags_vocab.rev_lookup(int(i))for i in gold if i!= model.padidx)\n",
    "            path = best_paths[i]\n",
    "            gold = torch.tensor([j for j in Y_golds[i] if j != model.padidx])\n",
    "            for tag in path:\n",
    "                TP[tag] += ((path == tag) & (gold == tag)).sum()\n",
    "                FP[tag] += ((path == tag) & (gold != tag)).sum()\n",
    "                FN[tag] += ((path != tag) & (gold == tag)).sum()\n",
    "                class_counts[tag] += (gold == tag).sum()\n",
    "                \n",
    "            "
   ]
  },
  {
   "cell_type": "code",
   "execution_count": 2,
   "id": "7ffa0e20-29a8-4f88-a45a-d36a8c4dafb6",
   "metadata": {},
   "outputs": [
    {
     "ename": "NameError",
     "evalue": "name 'TP' is not defined",
     "output_type": "error",
     "traceback": [
      "\u001b[0;31m---------------------------------------------------------------------------\u001b[0m",
      "\u001b[0;31mNameError\u001b[0m                                 Traceback (most recent call last)",
      "Cell \u001b[0;32mIn[2], line 1\u001b[0m\n\u001b[0;32m----> 1\u001b[0m precision \u001b[38;5;241m=\u001b[39m \u001b[43mTP\u001b[49m \u001b[38;5;241m/\u001b[39m (TP \u001b[38;5;241m+\u001b[39m FP)\n\u001b[1;32m      2\u001b[0m \u001b[38;5;66;03m# avoid nan\u001b[39;00m\n\u001b[1;32m      3\u001b[0m nan_mask \u001b[38;5;241m=\u001b[39m torch\u001b[38;5;241m.\u001b[39misnan(precision)\n",
      "\u001b[0;31mNameError\u001b[0m: name 'TP' is not defined"
     ]
    }
   ],
   "source": [
    "precision = TP / (TP + FP)\n",
    "# avoid nan\n",
    "nan_mask = torch.isnan(precision)\n",
    "precision[nan_mask] = 0.\n",
    "\n",
    "recall = TP / (TP + FN)\n",
    "# avoid nan\n",
    "nan_mask = torch.isnan(recall)\n",
    "recall[nan_mask] = 0.\n",
    "\n",
    "f1_score = 2 * (precision * recall) / (precision + recall)\n",
    "# avoid nan\n",
    "nan_mask = torch.isnan(f1_score)\n",
    "f1_score[nan_mask] = 0.\n",
    "# Calculate class weights\n",
    "class_weights = class_counts / class_counts.sum()"
   ]
  },
  {
   "cell_type": "code",
   "execution_count": null,
   "id": "3d1e65ce-18ba-4594-8f7f-349b5c73b944",
   "metadata": {},
   "outputs": [],
   "source": [
    "for tag in range(num_tags):\n",
    "    print(model.tags_vocab.rev_lookup(tag), precision[tag])"
   ]
  },
  {
   "cell_type": "code",
   "execution_count": 3,
   "id": "e3a45e1b-6998-4aae-8d92-0faf9e170216",
   "metadata": {},
   "outputs": [
    {
     "ename": "NameError",
     "evalue": "name 'num_tags' is not defined",
     "output_type": "error",
     "traceback": [
      "\u001b[0;31m---------------------------------------------------------------------------\u001b[0m",
      "\u001b[0;31mNameError\u001b[0m                                 Traceback (most recent call last)",
      "Cell \u001b[0;32mIn[3], line 1\u001b[0m\n\u001b[0;32m----> 1\u001b[0m \u001b[38;5;28;01mfor\u001b[39;00m tag \u001b[38;5;129;01min\u001b[39;00m \u001b[38;5;28mrange\u001b[39m(\u001b[43mnum_tags\u001b[49m):\n\u001b[1;32m      2\u001b[0m     \u001b[38;5;28mprint\u001b[39m(model\u001b[38;5;241m.\u001b[39mtags_vocab\u001b[38;5;241m.\u001b[39mrev_lookup(tag), class_counts[tag])\n",
      "\u001b[0;31mNameError\u001b[0m: name 'num_tags' is not defined"
     ]
    }
   ],
   "source": [
    "for tag in range(num_tags):\n",
    "    print(model.tags_vocab.rev_lookup(tag), class_counts[tag])"
   ]
  },
  {
   "cell_type": "code",
   "execution_count": null,
   "id": "f2f1ef05-1d61-44bb-be0c-e0eb7c38d12d",
   "metadata": {},
   "outputs": [],
   "source": []
  },
  {
   "cell_type": "code",
   "execution_count": 77,
   "id": "a3723d96-e37f-4623-9229-fdf28207b182",
   "metadata": {},
   "outputs": [],
   "source": [
    "weighted_f1_score = (f1_score * class_weights)\n",
    "weighted_recall = (recall * class_weights)\n",
    "weighted_precision = (precision * class_weights)"
   ]
  },
  {
   "cell_type": "code",
   "execution_count": 15,
   "id": "d006285c-7685-4ab5-8db8-6547c09f360a",
   "metadata": {},
   "outputs": [
    {
     "name": "stdout",
     "output_type": "stream",
     "text": [
      "tensor(0.9184)\n",
      "tensor(0.9386)\n",
      "tensor(0.9386)\n"
     ]
    }
   ],
   "source": [
    "print(sum(weighted_f1_score))\n",
    "print(sum(weighted_recall))\n",
    "print(sum(weighted_recall))"
   ]
  },
  {
   "cell_type": "code",
   "execution_count": 18,
   "id": "427b3262-e6d8-436f-b982-c05a5c505ac0",
   "metadata": {},
   "outputs": [
    {
     "name": "stdout",
     "output_type": "stream",
     "text": [
      "<unk> tensor(0.)\n",
      "<pad> tensor(0.)\n",
      "B_CL tensor(0.9270)\n",
      "I_V tensor(0.8889)\n",
      "I_ADV tensor(0.2275)\n",
      "B_V tensor(0.8962)\n",
      "B_P tensor(0.9381)\n",
      "B_A tensor(0.7716)\n",
      "B_D tensor(0.9347)\n",
      "B_N tensor(0.8759)\n",
      "B_PONCT tensor(0.9828)\n",
      "B_C tensor(0.9336)\n",
      "B__ tensor(0.9997)\n",
      "B_ADV tensor(0.3598)\n",
      "I_N tensor(0.4318)\n",
      "I_C tensor(0.4000)\n",
      "I_CL tensor(0.9091)\n",
      "I_D tensor(0.7143)\n",
      "I_P tensor(0.3692)\n",
      "I_PONCT tensor(0.8235)\n",
      "I_A tensor(0.4545)\n",
      "B_PREF tensor(0.8000)\n",
      "B_I tensor(0.)\n",
      "B_ET tensor(0.)\n",
      "I_ET tensor(0.)\n",
      "B_NC tensor(0.)\n",
      "B_S tensor(0.)\n",
      "B_X tensor(0.)\n"
     ]
    }
   ],
   "source": [
    "for tag in range(num_tags):\n",
    "    print(model.tags_vocab.rev_lookup(tag), f1_score[tag])\n"
   ]
  },
  {
   "cell_type": "markdown",
   "id": "abed597a-9a0f-4f22-9261-075ed0d3a64e",
   "metadata": {},
   "source": [
    "# LSTM Layer + CRF decoder"
   ]
  },
  {
   "cell_type": "code",
   "execution_count": 26,
   "id": "97760fe1-beff-453c-a48b-0e4d7eb9c0cc",
   "metadata": {},
   "outputs": [],
   "source": [
    "#define the hyperparameters\n",
    "batch_size    = 16\n",
    "window_size   =  6#left context and right context\n",
    "lr            = 1e-2\n",
    "device        = \"cpu\"\n",
    "epochs        = 30\n",
    "emb_size      = 64\n",
    "hidden_size   = 64\n",
    "drop_out      = 0.1"
   ]
  },
  {
   "cell_type": "code",
   "execution_count": 27,
   "id": "17bba45b-a705-4366-91d8-84f61e557168",
   "metadata": {},
   "outputs": [
    {
     "name": "stdout",
     "output_type": "stream",
     "text": [
      "token Vocab size 35693\n",
      "token Vocab size 35693\n"
     ]
    }
   ],
   "source": [
    "trainset     = rnn_dataset.MweRnnDataset(\"corpus/train.conllu\",  isTrain = True)\n",
    "testset      = rnn_dataset.MweRnnDataset(\"corpus/test.conllu\")"
   ]
  },
  {
   "cell_type": "code",
   "execution_count": 28,
   "id": "6e68756f-3f34-4640-8f6a-f2f835d753d6",
   "metadata": {},
   "outputs": [],
   "source": [
    "model = rnn_classifier.MweRNN(\n",
    "    name         = \"LSTM\",\n",
    "    toks_vocab   = trainset.toks_vocab,\n",
    "    tags_vocab   = trainset.tags_vocab, \n",
    "    emb_size     = emb_size, \n",
    "    hidden_size  = hidden_size, \n",
    "    drop_out     = 0.)"
   ]
  },
  {
   "cell_type": "code",
   "execution_count": 29,
   "id": "4d9defe0-61ca-4a73-9daf-5998a1a66920",
   "metadata": {},
   "outputs": [
    {
     "name": "stderr",
     "output_type": "stream",
     "text": [
      "100%|█████████████████████████████████████████| 581/581 [00:26<00:00, 22.27it/s]\n",
      "100%|█████████████████████████████████████████| 146/146 [00:01<00:00, 88.52it/s]\n"
     ]
    },
    {
     "name": "stdout",
     "output_type": "stream",
     "text": [
      "Epoch 0 | Mean train loss  12.3865 |  Mean dev loss  6.3059 \n",
      "\n"
     ]
    },
    {
     "name": "stderr",
     "output_type": "stream",
     "text": [
      "100%|█████████████████████████████████████████| 581/581 [00:25<00:00, 23.22it/s]\n",
      "100%|█████████████████████████████████████████| 146/146 [00:01<00:00, 91.47it/s]\n"
     ]
    },
    {
     "name": "stdout",
     "output_type": "stream",
     "text": [
      "Epoch 1 | Mean train loss  4.2572 |  Mean dev loss  3.8725 \n",
      "\n"
     ]
    },
    {
     "name": "stderr",
     "output_type": "stream",
     "text": [
      "100%|█████████████████████████████████████████| 581/581 [00:24<00:00, 23.68it/s]\n",
      "100%|█████████████████████████████████████████| 146/146 [00:01<00:00, 78.67it/s]\n"
     ]
    },
    {
     "name": "stdout",
     "output_type": "stream",
     "text": [
      "Epoch 2 | Mean train loss  2.5388 |  Mean dev loss  2.6031 \n",
      "\n"
     ]
    },
    {
     "name": "stderr",
     "output_type": "stream",
     "text": [
      "100%|█████████████████████████████████████████| 581/581 [00:26<00:00, 21.84it/s]\n",
      "100%|█████████████████████████████████████████| 146/146 [00:02<00:00, 71.32it/s]\n"
     ]
    },
    {
     "name": "stdout",
     "output_type": "stream",
     "text": [
      "Epoch 3 | Mean train loss  1.8201 |  Mean dev loss  1.7126 \n",
      "\n"
     ]
    },
    {
     "name": "stderr",
     "output_type": "stream",
     "text": [
      "100%|█████████████████████████████████████████| 581/581 [00:27<00:00, 21.31it/s]\n",
      "100%|█████████████████████████████████████████| 146/146 [00:01<00:00, 77.20it/s]\n"
     ]
    },
    {
     "name": "stdout",
     "output_type": "stream",
     "text": [
      "Epoch 4 | Mean train loss  1.3661 |  Mean dev loss  1.3698 \n",
      "\n"
     ]
    },
    {
     "name": "stderr",
     "output_type": "stream",
     "text": [
      "100%|█████████████████████████████████████████| 581/581 [00:25<00:00, 23.01it/s]\n",
      "100%|█████████████████████████████████████████| 146/146 [00:02<00:00, 64.88it/s]\n"
     ]
    },
    {
     "name": "stdout",
     "output_type": "stream",
     "text": [
      "Epoch 5 | Mean train loss  1.1158 |  Mean dev loss  1.0955 \n",
      "\n"
     ]
    },
    {
     "name": "stderr",
     "output_type": "stream",
     "text": [
      "100%|█████████████████████████████████████████| 581/581 [00:26<00:00, 21.92it/s]\n",
      "100%|█████████████████████████████████████████| 146/146 [00:01<00:00, 78.32it/s]\n"
     ]
    },
    {
     "name": "stdout",
     "output_type": "stream",
     "text": [
      "Epoch 6 | Mean train loss  0.8928 |  Mean dev loss  0.9807 \n",
      "\n"
     ]
    },
    {
     "name": "stderr",
     "output_type": "stream",
     "text": [
      "100%|█████████████████████████████████████████| 581/581 [00:25<00:00, 23.11it/s]\n",
      "100%|█████████████████████████████████████████| 146/146 [00:01<00:00, 77.07it/s]\n"
     ]
    },
    {
     "name": "stdout",
     "output_type": "stream",
     "text": [
      "Epoch 7 | Mean train loss  0.7569 |  Mean dev loss  0.7933 \n",
      "\n"
     ]
    },
    {
     "name": "stderr",
     "output_type": "stream",
     "text": [
      "100%|█████████████████████████████████████████| 581/581 [00:24<00:00, 23.62it/s]\n",
      "100%|█████████████████████████████████████████| 146/146 [00:02<00:00, 64.17it/s]\n"
     ]
    },
    {
     "name": "stdout",
     "output_type": "stream",
     "text": [
      "Epoch 8 | Mean train loss  0.6448 |  Mean dev loss  0.6704 \n",
      "\n"
     ]
    },
    {
     "name": "stderr",
     "output_type": "stream",
     "text": [
      "100%|█████████████████████████████████████████| 581/581 [00:26<00:00, 21.82it/s]\n",
      "100%|█████████████████████████████████████████| 146/146 [00:02<00:00, 70.74it/s]\n"
     ]
    },
    {
     "name": "stdout",
     "output_type": "stream",
     "text": [
      "Epoch 9 | Mean train loss  0.5317 |  Mean dev loss  0.6198 \n",
      "\n"
     ]
    },
    {
     "name": "stderr",
     "output_type": "stream",
     "text": [
      "100%|█████████████████████████████████████████| 581/581 [00:27<00:00, 20.83it/s]\n",
      "100%|█████████████████████████████████████████| 146/146 [00:02<00:00, 61.02it/s]\n"
     ]
    },
    {
     "name": "stdout",
     "output_type": "stream",
     "text": [
      "Epoch 10 | Mean train loss  0.4490 |  Mean dev loss  0.5743 \n",
      "\n"
     ]
    },
    {
     "name": "stderr",
     "output_type": "stream",
     "text": [
      "100%|█████████████████████████████████████████| 581/581 [00:27<00:00, 21.13it/s]\n",
      "100%|█████████████████████████████████████████| 146/146 [00:01<00:00, 74.37it/s]\n"
     ]
    },
    {
     "name": "stdout",
     "output_type": "stream",
     "text": [
      "Epoch 11 | Mean train loss  0.4278 |  Mean dev loss  0.5111 \n",
      "\n"
     ]
    },
    {
     "name": "stderr",
     "output_type": "stream",
     "text": [
      "100%|█████████████████████████████████████████| 581/581 [00:26<00:00, 22.02it/s]\n",
      "100%|█████████████████████████████████████████| 146/146 [00:02<00:00, 65.00it/s]\n"
     ]
    },
    {
     "name": "stdout",
     "output_type": "stream",
     "text": [
      "Epoch 12 | Mean train loss  0.6699 |  Mean dev loss  1.5737 \n",
      "\n"
     ]
    },
    {
     "name": "stderr",
     "output_type": "stream",
     "text": [
      "100%|█████████████████████████████████████████| 581/581 [00:27<00:00, 21.32it/s]\n",
      "100%|█████████████████████████████████████████| 146/146 [00:01<00:00, 81.35it/s]\n"
     ]
    },
    {
     "name": "stdout",
     "output_type": "stream",
     "text": [
      "Epoch 13 | Mean train loss  1.7729 |  Mean dev loss  1.5296 \n",
      "\n"
     ]
    },
    {
     "name": "stderr",
     "output_type": "stream",
     "text": [
      "100%|█████████████████████████████████████████| 581/581 [00:25<00:00, 22.35it/s]\n",
      "100%|█████████████████████████████████████████| 146/146 [00:02<00:00, 72.80it/s]\n"
     ]
    },
    {
     "name": "stdout",
     "output_type": "stream",
     "text": [
      "Epoch 14 | Mean train loss  1.0089 |  Mean dev loss  0.9141 \n",
      "\n"
     ]
    },
    {
     "name": "stderr",
     "output_type": "stream",
     "text": [
      "100%|█████████████████████████████████████████| 581/581 [00:26<00:00, 22.21it/s]\n",
      "100%|█████████████████████████████████████████| 146/146 [00:01<00:00, 78.17it/s]\n"
     ]
    },
    {
     "name": "stdout",
     "output_type": "stream",
     "text": [
      "Epoch 15 | Mean train loss  0.5897 |  Mean dev loss  0.5759 \n",
      "\n"
     ]
    },
    {
     "name": "stderr",
     "output_type": "stream",
     "text": [
      "100%|█████████████████████████████████████████| 581/581 [00:24<00:00, 23.65it/s]\n",
      "100%|█████████████████████████████████████████| 146/146 [00:01<00:00, 76.97it/s]\n"
     ]
    },
    {
     "name": "stdout",
     "output_type": "stream",
     "text": [
      "Epoch 16 | Mean train loss  0.3790 |  Mean dev loss  0.3967 \n",
      "\n"
     ]
    },
    {
     "name": "stderr",
     "output_type": "stream",
     "text": [
      "100%|█████████████████████████████████████████| 581/581 [00:25<00:00, 23.16it/s]\n",
      "100%|█████████████████████████████████████████| 146/146 [00:01<00:00, 74.83it/s]\n"
     ]
    },
    {
     "name": "stdout",
     "output_type": "stream",
     "text": [
      "Epoch 17 | Mean train loss  0.2670 |  Mean dev loss  0.2926 \n",
      "\n"
     ]
    },
    {
     "name": "stderr",
     "output_type": "stream",
     "text": [
      "100%|█████████████████████████████████████████| 581/581 [00:27<00:00, 21.48it/s]\n",
      "100%|█████████████████████████████████████████| 146/146 [00:02<00:00, 67.23it/s]\n"
     ]
    },
    {
     "name": "stdout",
     "output_type": "stream",
     "text": [
      "Epoch 18 | Mean train loss  0.2062 |  Mean dev loss  0.2066 \n",
      "\n"
     ]
    },
    {
     "name": "stderr",
     "output_type": "stream",
     "text": [
      "100%|█████████████████████████████████████████| 581/581 [00:27<00:00, 20.96it/s]\n",
      "100%|█████████████████████████████████████████| 146/146 [00:02<00:00, 70.23it/s]\n"
     ]
    },
    {
     "name": "stdout",
     "output_type": "stream",
     "text": [
      "Epoch 19 | Mean train loss  0.1852 |  Mean dev loss  0.1735 \n",
      "\n"
     ]
    },
    {
     "name": "stderr",
     "output_type": "stream",
     "text": [
      "100%|█████████████████████████████████████████| 581/581 [00:25<00:00, 22.68it/s]\n",
      "100%|█████████████████████████████████████████| 146/146 [00:02<00:00, 71.88it/s]\n"
     ]
    },
    {
     "name": "stdout",
     "output_type": "stream",
     "text": [
      "Epoch 20 | Mean train loss  0.1444 |  Mean dev loss  0.1677 \n",
      "\n"
     ]
    },
    {
     "name": "stderr",
     "output_type": "stream",
     "text": [
      "100%|█████████████████████████████████████████| 581/581 [00:26<00:00, 21.90it/s]\n",
      "100%|█████████████████████████████████████████| 146/146 [00:02<00:00, 72.95it/s]\n"
     ]
    },
    {
     "name": "stdout",
     "output_type": "stream",
     "text": [
      "Epoch 21 | Mean train loss  0.1181 |  Mean dev loss  0.1315 \n",
      "\n"
     ]
    },
    {
     "name": "stderr",
     "output_type": "stream",
     "text": [
      "100%|█████████████████████████████████████████| 581/581 [00:26<00:00, 21.88it/s]\n",
      "100%|█████████████████████████████████████████| 146/146 [00:02<00:00, 62.64it/s]\n"
     ]
    },
    {
     "name": "stdout",
     "output_type": "stream",
     "text": [
      "Epoch 22 | Mean train loss  0.1112 |  Mean dev loss  0.1291 \n",
      "\n"
     ]
    },
    {
     "name": "stderr",
     "output_type": "stream",
     "text": [
      "100%|█████████████████████████████████████████| 581/581 [00:27<00:00, 21.21it/s]\n",
      "100%|█████████████████████████████████████████| 146/146 [00:02<00:00, 72.97it/s]\n"
     ]
    },
    {
     "name": "stdout",
     "output_type": "stream",
     "text": [
      "Epoch 23 | Mean train loss  0.4967 |  Mean dev loss  2.8051 \n",
      "\n"
     ]
    },
    {
     "name": "stderr",
     "output_type": "stream",
     "text": [
      "100%|█████████████████████████████████████████| 581/581 [00:26<00:00, 22.28it/s]\n",
      "100%|█████████████████████████████████████████| 146/146 [00:01<00:00, 73.08it/s]\n"
     ]
    },
    {
     "name": "stdout",
     "output_type": "stream",
     "text": [
      "Epoch 24 | Mean train loss  1.8956 |  Mean dev loss  1.5678 \n",
      "\n"
     ]
    },
    {
     "name": "stderr",
     "output_type": "stream",
     "text": [
      "100%|█████████████████████████████████████████| 581/581 [00:27<00:00, 20.93it/s]\n",
      "100%|█████████████████████████████████████████| 146/146 [00:02<00:00, 64.87it/s]\n"
     ]
    },
    {
     "name": "stdout",
     "output_type": "stream",
     "text": [
      "Epoch 25 | Mean train loss  0.9912 |  Mean dev loss  0.9728 \n",
      "\n"
     ]
    },
    {
     "name": "stderr",
     "output_type": "stream",
     "text": [
      "100%|█████████████████████████████████████████| 581/581 [00:28<00:00, 20.14it/s]\n",
      "100%|█████████████████████████████████████████| 146/146 [00:02<00:00, 61.28it/s]\n"
     ]
    },
    {
     "name": "stdout",
     "output_type": "stream",
     "text": [
      "Epoch 26 | Mean train loss  0.6217 |  Mean dev loss  0.6855 \n",
      "\n"
     ]
    },
    {
     "name": "stderr",
     "output_type": "stream",
     "text": [
      "100%|█████████████████████████████████████████| 581/581 [00:28<00:00, 20.47it/s]\n",
      "100%|█████████████████████████████████████████| 146/146 [00:03<00:00, 44.79it/s]\n"
     ]
    },
    {
     "name": "stdout",
     "output_type": "stream",
     "text": [
      "Epoch 27 | Mean train loss  0.4597 |  Mean dev loss  0.4892 \n",
      "\n"
     ]
    },
    {
     "name": "stderr",
     "output_type": "stream",
     "text": [
      "100%|█████████████████████████████████████████| 581/581 [00:28<00:00, 20.16it/s]\n",
      "100%|█████████████████████████████████████████| 146/146 [00:02<00:00, 49.07it/s]\n"
     ]
    },
    {
     "name": "stdout",
     "output_type": "stream",
     "text": [
      "Epoch 28 | Mean train loss  0.3572 |  Mean dev loss  0.3485 \n",
      "\n"
     ]
    },
    {
     "name": "stderr",
     "output_type": "stream",
     "text": [
      " 46%|██████████████████▊                      | 266/581 [00:13<00:15, 19.98it/s]\n"
     ]
    },
    {
     "ename": "KeyboardInterrupt",
     "evalue": "",
     "output_type": "error",
     "traceback": [
      "\u001b[0;31m---------------------------------------------------------------------------\u001b[0m",
      "\u001b[0;31mKeyboardInterrupt\u001b[0m                         Traceback (most recent call last)",
      "Cell \u001b[0;32mIn[29], line 1\u001b[0m\n\u001b[0;32m----> 1\u001b[0m \u001b[43mmodel\u001b[49m\u001b[38;5;241;43m.\u001b[39;49m\u001b[43mtrain_model\u001b[49m\u001b[43m(\u001b[49m\u001b[43mtrainset\u001b[49m\u001b[43m,\u001b[49m\u001b[43mtestset\u001b[49m\u001b[43m,\u001b[49m\u001b[43m \u001b[49m\u001b[43mepochs\u001b[49m\u001b[38;5;241;43m=\u001b[39;49m\u001b[43m \u001b[49m\u001b[43mepochs\u001b[49m\u001b[43m,\u001b[49m\u001b[43m \u001b[49m\u001b[43mlr\u001b[49m\u001b[38;5;241;43m=\u001b[39;49m\u001b[43mlr\u001b[49m\u001b[43m,\u001b[49m\u001b[43m \u001b[49m\u001b[43mbatch_size\u001b[49m\u001b[43m \u001b[49m\u001b[38;5;241;43m=\u001b[39;49m\u001b[43m \u001b[49m\u001b[43mbatch_size\u001b[49m\u001b[43m,\u001b[49m\u001b[43m \u001b[49m\u001b[43msplit_train\u001b[49m\u001b[38;5;241;43m=\u001b[39;49m\u001b[38;5;241;43m0.8\u001b[39;49m\u001b[43m)\u001b[49m\n",
      "File \u001b[0;32m~/Projects/MWE/rnn_classifier.py:80\u001b[0m, in \u001b[0;36mMweRNN.train_model\u001b[0;34m(self, train_data, test_data, epochs, lr, batch_size, device, split_train)\u001b[0m\n\u001b[1;32m     78\u001b[0m #print(logits.shape)\n\u001b[1;32m     79\u001b[0m loss =  self.crf.loss(logits, Y_gold, masks) #conditional random field\n\u001b[0;32m---> 80\u001b[0m #loss_value = loss_fnc(logprobs.view(bs*seq, -1), Y_gold.view(-1))\n\u001b[1;32m     81\u001b[0m ep_loss.append(loss.mean().item())\n\u001b[1;32m     82\u001b[0m loss.backward(loss)\n",
      "File \u001b[0;32m~/Projects/MWE/crf.py:66\u001b[0m, in \u001b[0;36mCRF.loss\u001b[0;34m(self, features, ys, masks)\u001b[0m\n\u001b[1;32m     63\u001b[0m L \u001b[38;5;241m=\u001b[39m features\u001b[38;5;241m.\u001b[39msize(\u001b[38;5;241m1\u001b[39m)\n\u001b[1;32m     64\u001b[0m masks_ \u001b[38;5;241m=\u001b[39m masks[:, :L]\u001b[38;5;241m.\u001b[39mfloat()\n\u001b[0;32m---> 66\u001b[0m forward_score \u001b[38;5;241m=\u001b[39m \u001b[38;5;28;43mself\u001b[39;49m\u001b[38;5;241;43m.\u001b[39;49m\u001b[43m__forward_algorithm\u001b[49m\u001b[43m(\u001b[49m\u001b[43mfeatures\u001b[49m\u001b[43m,\u001b[49m\u001b[43m \u001b[49m\u001b[43mmasks_\u001b[49m\u001b[43m)\u001b[49m\n\u001b[1;32m     67\u001b[0m gold_score \u001b[38;5;241m=\u001b[39m \u001b[38;5;28mself\u001b[39m\u001b[38;5;241m.\u001b[39m__score_sentence(features, ys[:, :L]\u001b[38;5;241m.\u001b[39mlong(), masks_)\n\u001b[1;32m     68\u001b[0m loss \u001b[38;5;241m=\u001b[39m (forward_score \u001b[38;5;241m-\u001b[39m gold_score)\u001b[38;5;241m.\u001b[39mmean()\n",
      "File \u001b[0;32m~/Projects/MWE/crf.py:161\u001b[0m, in \u001b[0;36mCRF.__forward_algorithm\u001b[0;34m(self, features, masks)\u001b[0m\n\u001b[1;32m    159\u001b[0m emit_score_t \u001b[38;5;241m=\u001b[39m features[:, t]\u001b[38;5;241m.\u001b[39munsqueeze(\u001b[38;5;241m2\u001b[39m)  \u001b[38;5;66;03m# [B, C, 1]\u001b[39;00m\n\u001b[1;32m    160\u001b[0m score_t \u001b[38;5;241m=\u001b[39m scores\u001b[38;5;241m.\u001b[39munsqueeze(\u001b[38;5;241m1\u001b[39m) \u001b[38;5;241m+\u001b[39m trans \u001b[38;5;241m+\u001b[39m emit_score_t  \u001b[38;5;66;03m# [B, 1, C] + [1, C, C] + [B, C, 1] => [B, C, C]\u001b[39;00m\n\u001b[0;32m--> 161\u001b[0m score_t \u001b[38;5;241m=\u001b[39m \u001b[43mlog_sum_exp\u001b[49m\u001b[43m(\u001b[49m\u001b[43mscore_t\u001b[49m\u001b[43m)\u001b[49m  \u001b[38;5;66;03m# [B, C]\u001b[39;00m\n\u001b[1;32m    163\u001b[0m mask_t \u001b[38;5;241m=\u001b[39m masks[:, t]\u001b[38;5;241m.\u001b[39munsqueeze(\u001b[38;5;241m1\u001b[39m)  \u001b[38;5;66;03m# [B, 1]\u001b[39;00m\n\u001b[1;32m    164\u001b[0m scores \u001b[38;5;241m=\u001b[39m score_t \u001b[38;5;241m*\u001b[39m mask_t \u001b[38;5;241m+\u001b[39m scores \u001b[38;5;241m*\u001b[39m (\u001b[38;5;241m1\u001b[39m \u001b[38;5;241m-\u001b[39m mask_t)\n",
      "File \u001b[0;32m~/Projects/MWE/crf.py:12\u001b[0m, in \u001b[0;36mlog_sum_exp\u001b[0;34m(x)\u001b[0m\n\u001b[1;32m      7\u001b[0m \u001b[38;5;250m\u001b[39m\u001b[38;5;124;03m\"\"\"\u001b[39;00m\n\u001b[1;32m      8\u001b[0m \u001b[38;5;124;03mCompute log sum exp in a numerically stable way for the forward algorithm\u001b[39;00m\n\u001b[1;32m      9\u001b[0m \u001b[38;5;124;03mcalculate log(sum(exp(x))) = max(x) + log(sum(exp(x - max(x))))\u001b[39;00m\n\u001b[1;32m     10\u001b[0m \u001b[38;5;124;03m\"\"\"\u001b[39;00m\n\u001b[1;32m     11\u001b[0m max_score \u001b[38;5;241m=\u001b[39m x\u001b[38;5;241m.\u001b[39mmax(\u001b[38;5;241m-\u001b[39m\u001b[38;5;241m1\u001b[39m)[\u001b[38;5;241m0\u001b[39m]\n\u001b[0;32m---> 12\u001b[0m \u001b[38;5;28;01mreturn\u001b[39;00m max_score \u001b[38;5;241m+\u001b[39m \u001b[43m(\u001b[49m\u001b[43mx\u001b[49m\u001b[43m \u001b[49m\u001b[38;5;241;43m-\u001b[39;49m\u001b[43m \u001b[49m\u001b[43mmax_score\u001b[49m\u001b[38;5;241;43m.\u001b[39;49m\u001b[43munsqueeze\u001b[49m\u001b[43m(\u001b[49m\u001b[38;5;241;43m-\u001b[39;49m\u001b[38;5;241;43m1\u001b[39;49m\u001b[43m)\u001b[49m\u001b[43m)\u001b[49m\u001b[38;5;241;43m.\u001b[39;49m\u001b[43mexp\u001b[49m\u001b[43m(\u001b[49m\u001b[43m)\u001b[49m\u001b[38;5;241m.\u001b[39msum(\u001b[38;5;241m-\u001b[39m\u001b[38;5;241m1\u001b[39m)\u001b[38;5;241m.\u001b[39mlog()\n",
      "\u001b[0;31mKeyboardInterrupt\u001b[0m: "
     ]
    }
   ],
   "source": [
    "model.train_model(trainset,testset, epochs= epochs, lr=lr, batch_size = batch_size, split_train=0.8)"
   ]
  },
  {
   "cell_type": "code",
   "execution_count": 15,
   "id": "42fc6a51-5d2d-473d-8dd1-c089055db9bf",
   "metadata": {},
   "outputs": [
    {
     "name": "stderr",
     "output_type": "stream",
     "text": [
      "100%|█████████████████████████████████████████████| 4/4 [00:05<00:00,  1.46s/it]\n"
     ]
    }
   ],
   "source": [
    "num_tags = len(model.tags_vocab)\n",
    "# print(num_tags)\n",
    "TP = torch.zeros(num_tags)\n",
    "FP = torch.zeros(num_tags)\n",
    "FN = torch.zeros(num_tags)\n",
    "class_counts = torch.zeros(num_tags)\n",
    "with torch.no_grad():\n",
    "            \n",
    "    for X_toks, Y_golds in tqdm(testset.get_loader(batch_size = 500)):\n",
    "    # Forward pass\n",
    "        logits, masks = model.forward(X_toks)\n",
    "        best_score, best_paths = model.crf(logits, masks) #viterbi\n",
    "        #best_paths = pad_sequence(best_paths, padding_value= testset.tags_vocab[\"<pad>\"]).T\n",
    "        #print(best_paths.shape)\n",
    "        # Mask out the padding positions\n",
    "        \n",
    "        for i in range(len(best_paths)):\n",
    "            str = list(model.tags_vocab.rev_lookup(int(i))for i in Y_golds[i] if i!= model.padidx)\n",
    "            path = best_paths[i]\n",
    "            gold = torch.tensor([j for j in Y_golds[i] if j != model.padidx])\n",
    "            for tag in path:\n",
    "                TP[tag] += ((path == tag) & (gold == tag)).sum()\n",
    "                FP[tag] += ((path == tag) & (gold != tag)).sum()\n",
    "                FN[tag] += ((path != tag) & (gold == tag)).sum()\n",
    "                class_counts[tag] += (gold == tag).sum()\n",
    "              "
   ]
  },
  {
   "cell_type": "code",
   "execution_count": 16,
   "id": "edf2fd74-636b-4b09-8ced-bc39c7d7b058",
   "metadata": {},
   "outputs": [],
   "source": [
    "precision = TP / (TP + FP)\n",
    "# avoid nan\n",
    "nan_mask = torch.isnan(precision)\n",
    "precision[nan_mask] = 0.\n",
    "\n",
    "recall = TP / (TP + FN)\n",
    "# avoid nan\n",
    "nan_mask = torch.isnan(recall)\n",
    "recall[nan_mask] = 0.\n",
    "\n",
    "f1_score = 2 * (precision * recall) / (precision + recall)\n",
    "# avoid nan\n",
    "nan_mask = torch.isnan(f1_score)\n",
    "f1_score[nan_mask] = 0.\n",
    "# Calculate class weights\n",
    "class_weights = class_counts / class_counts.sum()"
   ]
  },
  {
   "cell_type": "code",
   "execution_count": 17,
   "id": "72c5d5d1-0a72-48f0-bfc9-2f8d220a21f3",
   "metadata": {},
   "outputs": [
    {
     "name": "stdout",
     "output_type": "stream",
     "text": [
      "<unk> tensor(0.)\n",
      "<pad> tensor(0.)\n",
      "B_CL tensor(0.9270)\n",
      "I_V tensor(0.8889)\n",
      "I_ADV tensor(0.2275)\n",
      "B_V tensor(0.8962)\n",
      "B_P tensor(0.9381)\n",
      "B_A tensor(0.7716)\n",
      "B_D tensor(0.9347)\n",
      "B_N tensor(0.8759)\n",
      "B_PONCT tensor(0.9828)\n",
      "B_C tensor(0.9336)\n",
      "B__ tensor(0.9997)\n",
      "B_ADV tensor(0.3598)\n",
      "I_N tensor(0.4318)\n",
      "I_C tensor(0.4000)\n",
      "I_CL tensor(0.9091)\n",
      "I_D tensor(0.7143)\n",
      "I_P tensor(0.3692)\n",
      "I_PONCT tensor(0.8235)\n",
      "I_A tensor(0.4545)\n",
      "B_PREF tensor(0.8000)\n",
      "B_I tensor(0.)\n",
      "B_ET tensor(0.)\n",
      "I_ET tensor(0.)\n",
      "B_NC tensor(0.)\n",
      "B_S tensor(0.)\n",
      "B_X tensor(0.)\n"
     ]
    }
   ],
   "source": [
    "for tag in range(num_tags):\n",
    "    print(model.tags_vocab.rev_lookup(tag), f1_score[tag])"
   ]
  },
  {
   "cell_type": "code",
   "execution_count": 11,
   "id": "7e6347bd-22f4-438d-9e44-c1c92e386bd0",
   "metadata": {},
   "outputs": [],
   "source": [
    "weighted_f1_score = (f1_score * class_weights)\n",
    "weighted_recall = (recall * class_weights)\n",
    "weighted_precision = (precision * class_weights)"
   ]
  },
  {
   "cell_type": "code",
   "execution_count": 12,
   "id": "3b48b937-0e7f-43ae-af16-2394d7643e60",
   "metadata": {},
   "outputs": [
    {
     "name": "stdout",
     "output_type": "stream",
     "text": [
      "tensor(0.9072)\n",
      "tensor(0.9160)\n",
      "tensor(0.9160)\n"
     ]
    }
   ],
   "source": [
    "print(sum(weighted_f1_score))\n",
    "print(sum(weighted_recall))\n",
    "print(sum(weighted_recall))"
   ]
  },
  {
   "cell_type": "code",
   "execution_count": 13,
   "id": "0c1722fb-9763-4c2a-b60d-f7a1c149216a",
   "metadata": {},
   "outputs": [
    {
     "name": "stdout",
     "output_type": "stream",
     "text": [
      "tensor(0.5314)\n",
      "tensor(0.5052)\n",
      "tensor(0.5134)\n"
     ]
    }
   ],
   "source": []
  },
  {
   "cell_type": "code",
   "execution_count": null,
   "id": "41f4f04d-ae51-4b2a-83db-21fd3a3daae2",
   "metadata": {},
   "outputs": [],
   "source": []
  }
 ],
 "metadata": {
  "kernelspec": {
   "display_name": "Python 3 (ipykernel)",
   "language": "python",
   "name": "python3"
  },
  "language_info": {
   "codemirror_mode": {
    "name": "ipython",
    "version": 3
   },
   "file_extension": ".py",
   "mimetype": "text/x-python",
   "name": "python",
   "nbconvert_exporter": "python",
   "pygments_lexer": "ipython3",
   "version": "3.10.6"
  }
 },
 "nbformat": 4,
 "nbformat_minor": 5
}
