{
 "cells": [
  {
   "cell_type": "markdown",
   "id": "7a469e74-d68d-4807-a4a6-f465db2e1b11",
   "metadata": {},
   "source": [
    "## A Demo on how to run the tagger"
   ]
  },
  {
   "cell_type": "code",
   "execution_count": 5,
   "id": "63859e0e-9cc2-4184-a195-9463f17f225a",
   "metadata": {},
   "outputs": [],
   "source": [
    "from tagger import Tagger"
   ]
  },
  {
   "cell_type": "code",
   "execution_count": 6,
   "id": "b2230774-7405-4e5f-9abc-d6a9b600bd62",
   "metadata": {},
   "outputs": [],
   "source": [
    "tagger = Tagger(mod_dir = \"trained_models\", filename = \"rnn_mod.pth\", modname = \"RNN\", toksfile = \"toks.txt\", tagsfile = \"tags_posbi.txt\")"
   ]
  },
  {
   "cell_type": "code",
   "execution_count": 7,
   "id": "fb7c9f1b-2c06-44e6-a97d-c11b56e4a230",
   "metadata": {},
   "outputs": [],
   "source": [
    "phrases_fr = [\n",
    "\"Le chat noir se promène dans la rue.\",\n",
    "\"Paris est la capitale de la France.\",\n",
    "\"J'ai rencontré Jean-Pierre hier soir.\",\n",
    "\"La Tour Eiffel est un symbole de Paris.\",\n",
    "\"Il pleut des cordes aujourd'hui.\",\n",
    "\"Je suis allé chez le médecin ce matin.\",\n",
    "\"La voiture rouge a été volée.\",\n",
    "\"Le président Emmanuel Macron a prononcé un discours.\",\n",
    "\"Je suis fan de rock'n'roll.\",\n",
    "\"Elle a acheté un sac à main de luxe.\",\n",
    "\"Le film Les Misérables a remporté plusieurs prix.\",\n",
    "\"J'ai réservé une table pour deux au restaurant.\",\n",
    "\"Il a remporté la médaille d'or lors des Jeux olympiques.\",\n",
    "\"Le groupe de musique Les Beatles a été très populaire dans les années 60.\",\n",
    "\"La société Apple a lancé un nouvel iPhone.\",\n",
    "\"J'ai lu le livre Harry Potter et la Chambre des secrets.\",\n",
    "\"Je suis né à New York en 1990.\",\n",
    "\"Le joueur de football Lionel Messi a marqué un superbe but.\",\n",
    "\"La région Provence-Alpes-Côte d'Azur est connue pour ses paysages magnifiques.\",\n",
    "\"J'ai visité le château de Versailles lors de mon séjour en France.\",\n",
    "\"Tous les étudiants ont réussi à l'exception de Pierre.\",\n",
    "]\n"
   ]
  },
  {
   "cell_type": "code",
   "execution_count": 8,
   "id": "b57f31a8-1eb9-4cc5-87b4-17cdb9d1720b",
   "metadata": {
    "scrolled": true
   },
   "outputs": [
    {
     "name": "stdout",
     "output_type": "stream",
     "text": [
      "Le chat noir se promène dans la rue. ['B_D', 'B_N', 'B_A', 'B_CL', 'B_V', 'B_P', 'B_D', 'B_N']\n",
      "\n",
      "Paris est la capitale de la France. ['B_N', 'B_V', 'B_D', 'B_N', 'B_P', 'B_D', 'B_N']\n",
      "\n",
      "J'ai rencontré Jean-Pierre hier soir. ['B_V', 'B_V', 'B_V', 'B_ADV', 'B_V']\n",
      "\n",
      "La Tour Eiffel est un symbole de Paris. ['B_D', 'B_N', 'B_N', 'B_V', 'B_D', 'B_N', 'B_P', 'B_N']\n",
      "\n",
      "Il pleut des cordes aujourd'hui. ['B_CL', 'B_V', 'B_D', 'B_N', 'B_A']\n",
      "\n",
      "Je suis allé chez le médecin ce matin. ['B_CL', 'B_V', 'B_V', 'B_P', 'B_D', 'B_N', 'B_CL', 'B_N']\n",
      "\n",
      "La voiture rouge a été volée. ['B_D', 'B_N', 'B_A', 'B_V', 'B_V', 'B_V']\n",
      "\n",
      "Le président Emmanuel Macron a prononcé un discours. ['B_D', 'B_N', 'B_A', 'B_N', 'B_V', 'B_V', 'B_D', 'B_N']\n",
      "\n",
      "Je suis fan de rock'n'roll. ['B_CL', 'B_V', 'B_V', 'B_P', 'B_N']\n",
      "\n",
      "Elle a acheté un sac à main de luxe. ['B_CL', 'B_V', 'B_V', 'B_D', 'B_N', 'B_P', 'B_N', 'B_P', 'B_N']\n",
      "\n",
      "Le film Les Misérables a remporté plusieurs prix. ['B_D', 'B_N', 'B_D', 'B_N', 'B_V', 'B_V', 'B_D', 'B_N']\n",
      "\n",
      "J'ai réservé une table pour deux au restaurant. ['B_N', 'B_V', 'B_D', 'B_N', 'B_P', 'B_NC', 'B__', 'B_N']\n",
      "\n",
      "Il a remporté la médaille d'or lors des Jeux olympiques. ['B_CL', 'B_V', 'B_V', 'B_D', 'B_N', 'B_V', 'B_ADV', 'B_D', 'B_N', 'B_A']\n",
      "\n",
      "Le groupe de musique Les Beatles a été très populaire dans les années 60. ['B_D', 'B_N', 'B_P', 'B_N', 'B_D', 'B_N', 'B_V', 'B_V', 'B_ADV', 'B_A', 'B_P', 'B_D', 'B_N', 'B_A']\n",
      "\n",
      "La société Apple a lancé un nouvel iPhone. ['B_D', 'B_N', 'B_N', 'B_V', 'B_V', 'B_D', 'B_A', 'B_N']\n",
      "\n",
      "J'ai lu le livre Harry Potter et la Chambre des secrets. ['B_V', 'B_V', 'B_D', 'B_N', 'B_N', 'B_N', 'B_C', 'B_D', 'B_N', 'B_D', 'B_N']\n",
      "\n",
      "Je suis né à New York en 1990. ['B_CL', 'B_V', 'B_V', 'B_P', 'B_N', 'B_N', 'B_P', 'B_N']\n",
      "\n",
      "Le joueur de football Lionel Messi a marqué un superbe but. ['B_D', 'B_N', 'B_P', 'B_N', 'B_A', 'B_A', 'B_V', 'B_V', 'B_D', 'B_A', 'B_N']\n",
      "\n",
      "La région Provence-Alpes-Côte d'Azur est connue pour ses paysages magnifiques. ['B_D', 'B_N', 'B_N', 'B_N', 'B_V', 'B_V', 'B_P', 'B_D', 'B_N', 'B_A']\n",
      "\n",
      "J'ai visité le château de Versailles lors de mon séjour en France. ['B_V', 'B_V', 'B_D', 'B_N', 'B_P', 'B_N', 'B_ADV', 'B_P', 'B_D', 'B_N', 'B_P', 'B_NC']\n",
      "\n",
      "Tous les étudiants ont réussi à l'exception de Pierre. ['B_D', 'B_D', 'B_N', 'B_V', 'B_V', 'B_P', 'B_V', 'B_P', 'B_N']\n",
      "\n"
     ]
    }
   ],
   "source": [
    "best_paths= tagger(phrases_fr)\n",
    "for p, sent in zip(best_paths, phrases_fr):\n",
    "    print(sent,p)\n",
    "    print()"
   ]
  },
  {
   "cell_type": "code",
   "execution_count": null,
   "id": "1a075d1e-8d17-45e4-bf9e-b516652cee4c",
   "metadata": {},
   "outputs": [],
   "source": []
  },
  {
   "cell_type": "code",
   "execution_count": null,
   "id": "ec188094-38a2-4823-ac16-7eb3734d1af4",
   "metadata": {},
   "outputs": [],
   "source": []
  }
 ],
 "metadata": {
  "kernelspec": {
   "display_name": "Python 3 (ipykernel)",
   "language": "python",
   "name": "python3"
  },
  "language_info": {
   "codemirror_mode": {
    "name": "ipython",
    "version": 3
   },
   "file_extension": ".py",
   "mimetype": "text/x-python",
   "name": "python",
   "nbconvert_exporter": "python",
   "pygments_lexer": "ipython3",
   "version": "3.10.6"
  }
 },
 "nbformat": 4,
 "nbformat_minor": 5
}
