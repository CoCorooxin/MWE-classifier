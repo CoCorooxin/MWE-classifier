{
 "cells": [
  {
   "cell_type": "markdown",
   "id": "7a469e74-d68d-4807-a4a6-f465db2e1b11",
   "metadata": {},
   "source": [
    "## A Demo on how to run the tagger"
   ]
  },
  {
   "cell_type": "code",
   "execution_count": 1,
   "id": "63859e0e-9cc2-4184-a195-9463f17f225a",
   "metadata": {},
   "outputs": [],
   "source": [
    "from tagger import Tagger"
   ]
  },
  {
   "cell_type": "code",
   "execution_count": 8,
   "id": "b2230774-7405-4e5f-9abc-d6a9b600bd62",
   "metadata": {},
   "outputs": [],
   "source": [
    "tagger = Tagger(mod_dir = \"trained_models\", filename = \"lstm_mod.pth\", modname = \"LSTM\", toksfile = \"toks.txt\", tagsfile = \"tags.txt\")"
   ]
  },
  {
   "cell_type": "code",
   "execution_count": 9,
   "id": "fb7c9f1b-2c06-44e6-a97d-c11b56e4a230",
   "metadata": {},
   "outputs": [],
   "source": [
    "phrases_fr = [\n",
    "\"Elle a acheté un sac à main de luxe.\",\n",
    "\"Le film Les Misérables a remporté plusieurs prix.\",\n",
    "\"J'ai réservé une table pour deux au restaurant.\",\n",
    "\"Il a remporté la médaille d'or lors des Jeux olympiques.\",\n",
    "\"Le groupe de musique Les Beatles a été très populaire dans les années 60.\",\n",
    "\"La société Apple a lancé un nouvel iPhone.\",\n",
    "\"J'ai lu le livre Harry Potter et la Chambre des secrets.\",\n",
    "\"Je suis né à New York en 1990.\",\n",
    "\"Le joueur de football Lionel Messi a marqué un superbe but.\",\n",
    "\"La région Provence-Alpes-Côte d'Azur est connue pour ses paysages magnifiques.\",\n",
    "\"J'ai visité le château de Versailles lors de mon séjour en France.\",\n",
    "\"Tous les étudiants ont réussi à l'exception de Pierre.\",\n",
    "]\n"
   ]
  },
  {
   "cell_type": "code",
   "execution_count": 10,
   "id": "b57f31a8-1eb9-4cc5-87b4-17cdb9d1720b",
   "metadata": {
    "scrolled": true
   },
   "outputs": [
    {
     "name": "stdout",
     "output_type": "stream",
     "text": [
      "Elle a acheté un sac à main de luxe. ['O_CL', 'O_V', 'O_V', 'O_D', 'O_N', 'O_P', 'O_N', 'O_P', 'O_N']\n",
      "\n",
      "Le film Les Misérables a remporté plusieurs prix. ['O_D', 'O_N', 'O_D', 'O_N', 'O_V', 'O_V', 'O_D', 'O_N']\n",
      "\n",
      "J'ai réservé une table pour deux au restaurant. ['O_N', 'O_V', 'O_D', 'O_N', 'O_P', 'O_PRO', 'O_P+D', 'O_N']\n",
      "\n",
      "Il a remporté la médaille d'or lors des Jeux olympiques. ['O_CL', 'O_V', 'O_V', 'O_D', 'O_N', 'O_V', 'B_ADV', 'I_P+D', 'O_N', 'O_A']\n",
      "\n",
      "Le groupe de musique Les Beatles a été très populaire dans les années 60. ['O_D', 'O_N', 'O_P', 'O_N', 'O_D', 'O_N', 'O_V', 'O_V', 'O_ADV', 'O_A', 'O_P', 'O_D', 'O_N', 'O_N']\n",
      "\n",
      "La société Apple a lancé un nouvel iPhone. ['O_D', 'O_N', 'O_N', 'O_V', 'O_V', 'O_D', 'O_A', 'O_N']\n",
      "\n",
      "J'ai lu le livre Harry Potter et la Chambre des secrets. ['O_N', 'O_V', 'O_D', 'O_N', 'O_A', 'O_N', 'O_C', 'O_D', 'O_N', 'O_P+D', 'O_N']\n",
      "\n",
      "Je suis né à New York en 1990. ['O_CL', 'O_V', 'O_V', 'O_P', 'B_ET', 'I_ET', 'O_P', 'O_N']\n",
      "\n",
      "Le joueur de football Lionel Messi a marqué un superbe but. ['O_D', 'O_N', 'O_P', 'O_N', 'O_N', 'O_A', 'O_V', 'O_V', 'O_D', 'O_A', 'O_N']\n",
      "\n",
      "La région Provence-Alpes-Côte d'Azur est connue pour ses paysages magnifiques. ['O_D', 'O_N', 'O_A', 'O_N', 'O_V', 'O_V', 'O_P', 'O_D', 'O_N', 'O_A']\n",
      "\n",
      "J'ai visité le château de Versailles lors de mon séjour en France. ['O_N', 'O_N', 'O_D', 'O_N', 'O_P', 'O_N', 'B_ADV', 'I_P', 'O_D', 'O_N', 'O_P', 'O_N']\n",
      "\n",
      "Tous les étudiants ont réussi à l'exception de Pierre. ['O_A', 'O_D', 'O_N', 'O_V', 'O_V', 'O_P', 'O_N', 'O_P', 'O_N']\n",
      "\n"
     ]
    }
   ],
   "source": [
    "best_paths= tagger(phrases_fr)\n",
    "for p, sent in zip(best_paths, phrases_fr):\n",
    "    print(sent,p)\n",
    "    print()"
   ]
  },
  {
   "cell_type": "code",
   "execution_count": null,
   "id": "1a075d1e-8d17-45e4-bf9e-b516652cee4c",
   "metadata": {},
   "outputs": [],
   "source": []
  },
  {
   "cell_type": "code",
   "execution_count": null,
   "id": "ec188094-38a2-4823-ac16-7eb3734d1af4",
   "metadata": {},
   "outputs": [],
   "source": []
  }
 ],
 "metadata": {
  "kernelspec": {
   "display_name": "Python 3 (ipykernel)",
   "language": "python",
   "name": "python3"
  },
  "language_info": {
   "codemirror_mode": {
    "name": "ipython",
    "version": 3
   },
   "file_extension": ".py",
   "mimetype": "text/x-python",
   "name": "python",
   "nbconvert_exporter": "python",
   "pygments_lexer": "ipython3",
   "version": "3.10.6"
  }
 },
 "nbformat": 4,
 "nbformat_minor": 5
}
