{
 "cells": [
  {
   "cell_type": "code",
   "execution_count": 2,
   "id": "8233c734-83d3-425a-bc2c-00f442c41e5a",
   "metadata": {},
   "outputs": [],
   "source": [
    "from gensim.models import KeyedVectors, Word2Vec\n",
    "import rnn_dataset\n",
    "import mlp_dataset\n",
    "import pandas as pd"
   ]
  },
  {
   "cell_type": "code",
   "execution_count": 18,
   "id": "bced1757-d4bc-4603-82a0-9fbbe3fdc5f0",
   "metadata": {},
   "outputs": [],
   "source": [
    "word_vectors = KeyedVectors.load_word2vec_format(\"/home/xin/Downloads/frWac_non_lem_no_postag_no_phrase_200_cbow_cut100.bin\",\n",
    "                                                 binary = True,\n",
    "                                                 limit=500000)"
   ]
  },
  {
   "cell_type": "code",
   "execution_count": 20,
   "id": "81c8f719-e3f8-46e7-b1ad-e83985a6dad6",
   "metadata": {},
   "outputs": [],
   "source": []
  },
  {
   "cell_type": "code",
   "execution_count": null,
   "id": "072cc331-1e2f-41f0-a508-7d0b571da483",
   "metadata": {},
   "outputs": [],
   "source": []
  }
 ],
 "metadata": {
  "kernelspec": {
   "display_name": "Python 3 (ipykernel)",
   "language": "python",
   "name": "python3"
  },
  "language_info": {
   "codemirror_mode": {
    "name": "ipython",
    "version": 3
   },
   "file_extension": ".py",
   "mimetype": "text/x-python",
   "name": "python",
   "nbconvert_exporter": "python",
   "pygments_lexer": "ipython3",
   "version": "3.10.6"
  }
 },
 "nbformat": 4,
 "nbformat_minor": 5
}
